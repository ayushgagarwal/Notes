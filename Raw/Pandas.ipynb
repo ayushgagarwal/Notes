{
 "cells": [
  {
   "cell_type": "markdown",
   "id": "5bb410c4",
   "metadata": {},
   "source": [
    "3 important abstract in pandas \n",
    "DataFrame, Series and Index"
   ]
  },
  {
   "cell_type": "code",
   "execution_count": 1,
   "id": "1876eefc",
   "metadata": {},
   "outputs": [],
   "source": [
    "import pandas as pd"
   ]
  },
  {
   "cell_type": "markdown",
   "id": "729e1c3a",
   "metadata": {},
   "source": [
    "Everything has to be of same type in series\n",
    "Example - column in data"
   ]
  },
  {
   "cell_type": "code",
   "execution_count": 2,
   "id": "2c73c769",
   "metadata": {},
   "outputs": [
    {
     "data": {
      "text/plain": [
       "0   -1\n",
       "1    2\n",
       "2   -3\n",
       "3    4\n",
       "4   -5\n",
       "dtype: int64"
      ]
     },
     "execution_count": 2,
     "metadata": {},
     "output_type": "execute_result"
    }
   ],
   "source": [
    "obj = pd.Series([-1, 2, -3, 4, -5])\n",
    "obj"
   ]
  },
  {
   "cell_type": "code",
   "execution_count": 3,
   "id": "b3f8ff9e",
   "metadata": {},
   "outputs": [
    {
     "data": {
      "text/plain": [
       "pandas.core.series.Series"
      ]
     },
     "execution_count": 3,
     "metadata": {},
     "output_type": "execute_result"
    }
   ],
   "source": [
    "type(obj)"
   ]
  },
  {
   "cell_type": "code",
   "execution_count": 4,
   "id": "6324689a",
   "metadata": {},
   "outputs": [
    {
     "data": {
      "text/plain": [
       "-1"
      ]
     },
     "execution_count": 4,
     "metadata": {},
     "output_type": "execute_result"
    }
   ],
   "source": [
    "obj[0]"
   ]
  },
  {
   "cell_type": "code",
   "execution_count": 5,
   "id": "a6699622",
   "metadata": {},
   "outputs": [
    {
     "data": {
      "text/plain": [
       "1    2\n",
       "2   -3\n",
       "3    4\n",
       "dtype: int64"
      ]
     },
     "execution_count": 5,
     "metadata": {},
     "output_type": "execute_result"
    }
   ],
   "source": [
    "obj[1:4]"
   ]
  },
  {
   "cell_type": "code",
   "execution_count": 6,
   "id": "3a5837f5",
   "metadata": {},
   "outputs": [
    {
     "data": {
      "text/plain": [
       "0    False\n",
       "1     True\n",
       "2    False\n",
       "3     True\n",
       "4    False\n",
       "dtype: bool"
      ]
     },
     "execution_count": 6,
     "metadata": {},
     "output_type": "execute_result"
    }
   ],
   "source": [
    "I = obj > 0\n",
    "I\n",
    "#Interesting"
   ]
  },
  {
   "cell_type": "code",
   "execution_count": 7,
   "id": "b8e8d16d",
   "metadata": {},
   "outputs": [
    {
     "name": "stdout",
     "output_type": "stream",
     "text": [
      "1    2\n",
      "3    4\n",
      "dtype: int64\n"
     ]
    }
   ],
   "source": [
    "print(obj[I])"
   ]
  },
  {
   "cell_type": "code",
   "execution_count": 8,
   "id": "5d402785",
   "metadata": {},
   "outputs": [
    {
     "data": {
      "text/plain": [
       "0    -1\n",
       "1     2\n",
       "2    -3\n",
       "3     4\n",
       "4    -5\n",
       "5     a\n",
       "6     3\n",
       "dtype: object"
      ]
     },
     "execution_count": 8,
     "metadata": {},
     "output_type": "execute_result"
    }
   ],
   "source": [
    "obj2 = pd.Series([-1, 2, -3, 4, -5,\"a\",\"3\"])\n",
    "obj2"
   ]
  },
  {
   "cell_type": "code",
   "execution_count": 9,
   "id": "e6cd1fad",
   "metadata": {},
   "outputs": [
    {
     "name": "stdout",
     "output_type": "stream",
     "text": [
      "object\n"
     ]
    },
    {
     "data": {
      "text/plain": [
       "dtype('O')"
      ]
     },
     "execution_count": 9,
     "metadata": {},
     "output_type": "execute_result"
    }
   ],
   "source": [
    "print(obj2.dtype)\n",
    "obj2.dtype"
   ]
  },
  {
   "cell_type": "markdown",
   "id": "022fbb91",
   "metadata": {},
   "source": [
    "Series much much faster than lists"
   ]
  },
  {
   "cell_type": "code",
   "execution_count": 10,
   "id": "47c4c642",
   "metadata": {},
   "outputs": [
    {
     "data": {
      "text/plain": [
       "RangeIndex(start=0, stop=7, step=1)"
      ]
     },
     "execution_count": 10,
     "metadata": {},
     "output_type": "execute_result"
    }
   ],
   "source": [
    "obj2.index"
   ]
  },
  {
   "cell_type": "code",
   "execution_count": 11,
   "id": "b1b38b28",
   "metadata": {},
   "outputs": [
    {
     "data": {
      "text/plain": [
       "array([-1, 2, -3, 4, -5, 'a', '3'], dtype=object)"
      ]
     },
     "execution_count": 11,
     "metadata": {},
     "output_type": "execute_result"
    }
   ],
   "source": [
    "obj2.values"
   ]
  },
  {
   "cell_type": "markdown",
   "id": "13fce26a",
   "metadata": {},
   "source": [
    "Look at what happens here! Interesting!!!\n",
    "Indexes being used to get that value from the object"
   ]
  },
  {
   "cell_type": "code",
   "execution_count": 12,
   "id": "56415beb",
   "metadata": {},
   "outputs": [
    {
     "data": {
      "text/plain": [
       "1     2\n",
       "2    -3\n",
       "3     4\n",
       "4    -5\n",
       "dtype: object"
      ]
     },
     "execution_count": 12,
     "metadata": {},
     "output_type": "execute_result"
    }
   ],
   "source": [
    "I = [1,2,3,4]\n",
    "obj2[I]\n",
    "#Interesting"
   ]
  },
  {
   "cell_type": "markdown",
   "id": "4a8874bf",
   "metadata": {},
   "source": [
    "Names being used as index!\n",
    "Interesting"
   ]
  },
  {
   "cell_type": "code",
   "execution_count": 13,
   "id": "165f4415",
   "metadata": {},
   "outputs": [
    {
     "data": {
      "text/plain": [
       "alice     1\n",
       "bob      -2\n",
       "carol     3\n",
       "dave     -4\n",
       "esther    5\n",
       "frank    -6\n",
       "dtype: int64"
      ]
     },
     "execution_count": 13,
     "metadata": {},
     "output_type": "execute_result"
    }
   ],
   "source": [
    "obj3 = pd.Series([      1,    -2,       3,     -4,        5,      -6],\n",
    "              ['alice', 'bob', 'carol', 'dave', 'esther', 'frank'])\n",
    "obj3"
   ]
  },
  {
   "cell_type": "code",
   "execution_count": 14,
   "id": "be481bf5",
   "metadata": {},
   "outputs": [
    {
     "data": {
      "text/plain": [
       "-2"
      ]
     },
     "execution_count": 14,
     "metadata": {},
     "output_type": "execute_result"
    }
   ],
   "source": [
    "obj3[\"bob\"]"
   ]
  },
  {
   "cell_type": "code",
   "execution_count": 15,
   "id": "b71874f4",
   "metadata": {},
   "outputs": [
    {
     "data": {
      "text/plain": [
       "alice      True\n",
       "bob       False\n",
       "carol      True\n",
       "dave      False\n",
       "esther     True\n",
       "frank     False\n",
       "dtype: bool"
      ]
     },
     "execution_count": 15,
     "metadata": {},
     "output_type": "execute_result"
    }
   ],
   "source": [
    "obj3 > 0"
   ]
  },
  {
   "cell_type": "code",
   "execution_count": 16,
   "id": "c167ff1b",
   "metadata": {},
   "outputs": [
    {
     "data": {
      "text/plain": [
       "alice     1\n",
       "carol     3\n",
       "esther    5\n",
       "dtype: int64"
      ]
     },
     "execution_count": 16,
     "metadata": {},
     "output_type": "execute_result"
    }
   ],
   "source": [
    "obj3[obj3 > 0]"
   ]
  },
  {
   "cell_type": "markdown",
   "id": "041017d3",
   "metadata": {},
   "source": [
    "2 things to remember\n",
    "Index you set up should be unique\n",
    "Values should be of same type\n",
    "Series behaves like dictionary and lists"
   ]
  },
  {
   "cell_type": "code",
   "execution_count": 17,
   "id": "cde6fa8c",
   "metadata": {},
   "outputs": [
    {
     "data": {
      "text/plain": [
       " 1     alice\n",
       " 3     carol\n",
       " 5    esther\n",
       "-2       bob\n",
       "-4      dave\n",
       "-6     frank\n",
       "dtype: object"
      ]
     },
     "execution_count": 17,
     "metadata": {},
     "output_type": "execute_result"
    }
   ],
   "source": [
    "p = {'alice': 1, 'carol': 3, 'esther': 5, 'bob': -2, 'dave': -4, 'frank': -6}\n",
    "obj4 = pd.Series(p.keys(),p.values())\n",
    "obj4"
   ]
  },
  {
   "cell_type": "code",
   "execution_count": 18,
   "id": "00d48c92",
   "metadata": {},
   "outputs": [
    {
     "data": {
      "text/plain": [
       "alice     1\n",
       "carol     3\n",
       "esther    5\n",
       "bob      -2\n",
       "dave     -4\n",
       "frank    -6\n",
       "dtype: int64"
      ]
     },
     "execution_count": 18,
     "metadata": {},
     "output_type": "execute_result"
    }
   ],
   "source": [
    "obj4 = pd.Series(p)\n",
    "obj4"
   ]
  },
  {
   "cell_type": "markdown",
   "id": "77c050a6",
   "metadata": {},
   "source": [
    "When you dereference, if the indexes are compatible only then it works"
   ]
  },
  {
   "cell_type": "code",
   "execution_count": 19,
   "id": "cf9b07ad",
   "metadata": {},
   "outputs": [
    {
     "data": {
      "text/plain": [
       "alice     1\n",
       "esther    5\n",
       "dave     -4\n",
       "dtype: int64"
      ]
     },
     "execution_count": 19,
     "metadata": {},
     "output_type": "execute_result"
    }
   ],
   "source": [
    "mujeres = [0, 2, 4] # list of integer offsets\n",
    "obj4[mujeres]"
   ]
  },
  {
   "cell_type": "code",
   "execution_count": 20,
   "id": "fbb5fe76",
   "metadata": {},
   "outputs": [
    {
     "data": {
      "text/plain": [
       "alice     1\n",
       "carol     3\n",
       "esther    5\n",
       "bob      -2\n",
       "dave     -4\n",
       "frank    -6\n",
       "dtype: int64"
      ]
     },
     "execution_count": 20,
     "metadata": {},
     "output_type": "execute_result"
    }
   ],
   "source": [
    "obj4"
   ]
  },
  {
   "cell_type": "code",
   "execution_count": 21,
   "id": "2b6e40d1",
   "metadata": {},
   "outputs": [
    {
     "data": {
      "text/plain": [
       "True"
      ]
     },
     "execution_count": 21,
     "metadata": {},
     "output_type": "execute_result"
    }
   ],
   "source": [
    "\"alice\" in obj4"
   ]
  },
  {
   "cell_type": "code",
   "execution_count": 22,
   "id": "3714adcf",
   "metadata": {},
   "outputs": [
    {
     "data": {
      "text/plain": [
       "alice      True\n",
       "carol     False\n",
       "esther    False\n",
       "bob       False\n",
       "dave      False\n",
       "frank     False\n",
       "dtype: bool"
      ]
     },
     "execution_count": 22,
     "metadata": {},
     "output_type": "execute_result"
    }
   ],
   "source": [
    "obj4.isin({1})"
   ]
  },
  {
   "cell_type": "code",
   "execution_count": 23,
   "id": "b9ec5815",
   "metadata": {},
   "outputs": [
    {
     "data": {
      "text/plain": [
       "alice      6\n",
       "carol      8\n",
       "esther    10\n",
       "bob        3\n",
       "dave       1\n",
       "frank     -1\n",
       "dtype: int64"
      ]
     },
     "execution_count": 23,
     "metadata": {},
     "output_type": "execute_result"
    }
   ],
   "source": [
    "obj4 + 5"
   ]
  },
  {
   "cell_type": "code",
   "execution_count": 24,
   "id": "cdb8bb3f",
   "metadata": {},
   "outputs": [
    {
     "data": {
      "text/plain": [
       "5"
      ]
     },
     "execution_count": 24,
     "metadata": {},
     "output_type": "execute_result"
    }
   ],
   "source": [
    "abs(-5)"
   ]
  },
  {
   "cell_type": "code",
   "execution_count": 25,
   "id": "f011a7cb",
   "metadata": {},
   "outputs": [
    {
     "data": {
      "text/plain": [
       "alice     1\n",
       "bob      -2\n",
       "carol     3\n",
       "dave     -4\n",
       "esther    5\n",
       "frank    -6\n",
       "dtype: int64"
      ]
     },
     "execution_count": 25,
     "metadata": {},
     "output_type": "execute_result"
    }
   ],
   "source": [
    "obj3"
   ]
  },
  {
   "cell_type": "code",
   "execution_count": 26,
   "id": "4c709577",
   "metadata": {},
   "outputs": [
    {
     "data": {
      "text/plain": [
       "alice     1\n",
       "bob       2\n",
       "carol     3\n",
       "dave      4\n",
       "esther    5\n",
       "frank     6\n",
       "dtype: int64"
      ]
     },
     "execution_count": 26,
     "metadata": {},
     "output_type": "execute_result"
    }
   ],
   "source": [
    "obj3.apply(abs)"
   ]
  },
  {
   "cell_type": "code",
   "execution_count": 27,
   "id": "6f026e53",
   "metadata": {},
   "outputs": [
    {
     "data": {
      "text/plain": [
       "'yo'"
      ]
     },
     "execution_count": 27,
     "metadata": {},
     "output_type": "execute_result"
    }
   ],
   "source": [
    "obj3.name = \"yo\"\n",
    "obj3.name"
   ]
  },
  {
   "cell_type": "markdown",
   "id": "500e25a4",
   "metadata": {},
   "source": [
    "Dataframe is constructed is that every column is a series\n",
    "It is a series of series of objects"
   ]
  },
  {
   "cell_type": "code",
   "execution_count": 28,
   "id": "349065d2",
   "metadata": {},
   "outputs": [
    {
     "name": "stdout",
     "output_type": "stream",
     "text": [
      "type: <class 'pandas.core.frame.DataFrame'>\n",
      "               name    zip       poc\n",
      "0         east pole  30324     jared\n",
      "1     chrome yellow  30312     kelly\n",
      "2             brash  30318      matt\n",
      "3           taproom  30317  jonathan\n",
      "4            3heart  30306      nhan\n",
      "5  spiller park pcm  30308      dale\n",
      "6            refuge  30303     kitti\n",
      "7           toptime  30318     nolan\n"
     ]
    }
   ],
   "source": [
    "cafes = pd.DataFrame({'name': ['east pole', 'chrome yellow', 'brash', 'taproom', '3heart', 'spiller park pcm', 'refuge', 'toptime'],\n",
    "                   'zip': [30324, 30312, 30318, 30317, 30306, 30308, 30303, 30318],\n",
    "                   'poc': ['jared', 'kelly', 'matt', 'jonathan', 'nhan', 'dale', 'kitti', 'nolan']})\n",
    "print(\"type:\", type(cafes))\n",
    "print(cafes)"
   ]
  },
  {
   "cell_type": "markdown",
   "id": "46430716",
   "metadata": {},
   "source": [
    "Everything has the same index here\n",
    "Indexes of the series have to be aligned if you create it using a series"
   ]
  },
  {
   "cell_type": "code",
   "execution_count": 29,
   "id": "4ee7ec96",
   "metadata": {},
   "outputs": [
    {
     "data": {
      "text/plain": [
       "Index(['name', 'zip', 'poc'], dtype='object')"
      ]
     },
     "execution_count": 29,
     "metadata": {},
     "output_type": "execute_result"
    }
   ],
   "source": [
    "cafes.columns"
   ]
  },
  {
   "cell_type": "code",
   "execution_count": 30,
   "id": "e1519a3c",
   "metadata": {},
   "outputs": [
    {
     "data": {
      "text/plain": [
       "RangeIndex(start=0, stop=8, step=1)"
      ]
     },
     "execution_count": 30,
     "metadata": {},
     "output_type": "execute_result"
    }
   ],
   "source": [
    "cafes.zip.index"
   ]
  },
  {
   "cell_type": "code",
   "execution_count": 31,
   "id": "ec720e52",
   "metadata": {},
   "outputs": [
    {
     "data": {
      "text/plain": [
       "RangeIndex(start=0, stop=8, step=1)"
      ]
     },
     "execution_count": 31,
     "metadata": {},
     "output_type": "execute_result"
    }
   ],
   "source": [
    "cafes.index"
   ]
  },
  {
   "cell_type": "markdown",
   "id": "4f2c99d5",
   "metadata": {},
   "source": [
    "This means columns"
   ]
  },
  {
   "cell_type": "code",
   "execution_count": 32,
   "id": "46926cdf",
   "metadata": {},
   "outputs": [
    {
     "data": {
      "text/html": [
       "<div>\n",
       "<style scoped>\n",
       "    .dataframe tbody tr th:only-of-type {\n",
       "        vertical-align: middle;\n",
       "    }\n",
       "\n",
       "    .dataframe tbody tr th {\n",
       "        vertical-align: top;\n",
       "    }\n",
       "\n",
       "    .dataframe thead th {\n",
       "        text-align: right;\n",
       "    }\n",
       "</style>\n",
       "<table border=\"1\" class=\"dataframe\">\n",
       "  <thead>\n",
       "    <tr style=\"text-align: right;\">\n",
       "      <th></th>\n",
       "      <th>zip</th>\n",
       "      <th>name</th>\n",
       "    </tr>\n",
       "  </thead>\n",
       "  <tbody>\n",
       "    <tr>\n",
       "      <th>0</th>\n",
       "      <td>30324</td>\n",
       "      <td>east pole</td>\n",
       "    </tr>\n",
       "    <tr>\n",
       "      <th>1</th>\n",
       "      <td>30312</td>\n",
       "      <td>chrome yellow</td>\n",
       "    </tr>\n",
       "    <tr>\n",
       "      <th>2</th>\n",
       "      <td>30318</td>\n",
       "      <td>brash</td>\n",
       "    </tr>\n",
       "    <tr>\n",
       "      <th>3</th>\n",
       "      <td>30317</td>\n",
       "      <td>taproom</td>\n",
       "    </tr>\n",
       "    <tr>\n",
       "      <th>4</th>\n",
       "      <td>30306</td>\n",
       "      <td>3heart</td>\n",
       "    </tr>\n",
       "    <tr>\n",
       "      <th>5</th>\n",
       "      <td>30308</td>\n",
       "      <td>spiller park pcm</td>\n",
       "    </tr>\n",
       "    <tr>\n",
       "      <th>6</th>\n",
       "      <td>30303</td>\n",
       "      <td>refuge</td>\n",
       "    </tr>\n",
       "    <tr>\n",
       "      <th>7</th>\n",
       "      <td>30318</td>\n",
       "      <td>toptime</td>\n",
       "    </tr>\n",
       "  </tbody>\n",
       "</table>\n",
       "</div>"
      ],
      "text/plain": [
       "     zip              name\n",
       "0  30324         east pole\n",
       "1  30312     chrome yellow\n",
       "2  30318             brash\n",
       "3  30317           taproom\n",
       "4  30306            3heart\n",
       "5  30308  spiller park pcm\n",
       "6  30303            refuge\n",
       "7  30318           toptime"
      ]
     },
     "execution_count": 32,
     "metadata": {},
     "output_type": "execute_result"
    }
   ],
   "source": [
    "cafes[[\"zip\",\"name\"]]"
   ]
  },
  {
   "cell_type": "markdown",
   "id": "8f4eca3f",
   "metadata": {},
   "source": [
    "Slices means rows"
   ]
  },
  {
   "cell_type": "code",
   "execution_count": 33,
   "id": "83294853",
   "metadata": {},
   "outputs": [
    {
     "data": {
      "text/html": [
       "<div>\n",
       "<style scoped>\n",
       "    .dataframe tbody tr th:only-of-type {\n",
       "        vertical-align: middle;\n",
       "    }\n",
       "\n",
       "    .dataframe tbody tr th {\n",
       "        vertical-align: top;\n",
       "    }\n",
       "\n",
       "    .dataframe thead th {\n",
       "        text-align: right;\n",
       "    }\n",
       "</style>\n",
       "<table border=\"1\" class=\"dataframe\">\n",
       "  <thead>\n",
       "    <tr style=\"text-align: right;\">\n",
       "      <th></th>\n",
       "      <th>name</th>\n",
       "      <th>zip</th>\n",
       "      <th>poc</th>\n",
       "    </tr>\n",
       "  </thead>\n",
       "  <tbody>\n",
       "    <tr>\n",
       "      <th>1</th>\n",
       "      <td>chrome yellow</td>\n",
       "      <td>30312</td>\n",
       "      <td>kelly</td>\n",
       "    </tr>\n",
       "    <tr>\n",
       "      <th>3</th>\n",
       "      <td>taproom</td>\n",
       "      <td>30317</td>\n",
       "      <td>jonathan</td>\n",
       "    </tr>\n",
       "    <tr>\n",
       "      <th>5</th>\n",
       "      <td>spiller park pcm</td>\n",
       "      <td>30308</td>\n",
       "      <td>dale</td>\n",
       "    </tr>\n",
       "    <tr>\n",
       "      <th>7</th>\n",
       "      <td>toptime</td>\n",
       "      <td>30318</td>\n",
       "      <td>nolan</td>\n",
       "    </tr>\n",
       "  </tbody>\n",
       "</table>\n",
       "</div>"
      ],
      "text/plain": [
       "               name    zip       poc\n",
       "1     chrome yellow  30312     kelly\n",
       "3           taproom  30317  jonathan\n",
       "5  spiller park pcm  30308      dale\n",
       "7           toptime  30318     nolan"
      ]
     },
     "execution_count": 33,
     "metadata": {},
     "output_type": "execute_result"
    }
   ],
   "source": [
    "cafes[1::2]"
   ]
  },
  {
   "cell_type": "code",
   "execution_count": 34,
   "id": "0791f8cb",
   "metadata": {},
   "outputs": [
    {
     "data": {
      "text/html": [
       "<div>\n",
       "<style scoped>\n",
       "    .dataframe tbody tr th:only-of-type {\n",
       "        vertical-align: middle;\n",
       "    }\n",
       "\n",
       "    .dataframe tbody tr th {\n",
       "        vertical-align: top;\n",
       "    }\n",
       "\n",
       "    .dataframe thead th {\n",
       "        text-align: right;\n",
       "    }\n",
       "</style>\n",
       "<table border=\"1\" class=\"dataframe\">\n",
       "  <thead>\n",
       "    <tr style=\"text-align: right;\">\n",
       "      <th></th>\n",
       "      <th>name</th>\n",
       "      <th>zip</th>\n",
       "      <th>poc</th>\n",
       "    </tr>\n",
       "  </thead>\n",
       "  <tbody>\n",
       "    <tr>\n",
       "      <th>0</th>\n",
       "      <td>east pole</td>\n",
       "      <td>30324</td>\n",
       "      <td>jared</td>\n",
       "    </tr>\n",
       "  </tbody>\n",
       "</table>\n",
       "</div>"
      ],
      "text/plain": [
       "        name    zip    poc\n",
       "0  east pole  30324  jared"
      ]
     },
     "execution_count": 34,
     "metadata": {},
     "output_type": "execute_result"
    }
   ],
   "source": [
    "cafes[0:1]"
   ]
  },
  {
   "cell_type": "code",
   "execution_count": 35,
   "id": "b83927be",
   "metadata": {},
   "outputs": [
    {
     "data": {
      "text/html": [
       "<div>\n",
       "<style scoped>\n",
       "    .dataframe tbody tr th:only-of-type {\n",
       "        vertical-align: middle;\n",
       "    }\n",
       "\n",
       "    .dataframe tbody tr th {\n",
       "        vertical-align: top;\n",
       "    }\n",
       "\n",
       "    .dataframe thead th {\n",
       "        text-align: right;\n",
       "    }\n",
       "</style>\n",
       "<table border=\"1\" class=\"dataframe\">\n",
       "  <thead>\n",
       "    <tr style=\"text-align: right;\">\n",
       "      <th></th>\n",
       "      <th>poc</th>\n",
       "      <th>zip</th>\n",
       "    </tr>\n",
       "    <tr>\n",
       "      <th>name</th>\n",
       "      <th></th>\n",
       "      <th></th>\n",
       "    </tr>\n",
       "  </thead>\n",
       "  <tbody>\n",
       "    <tr>\n",
       "      <th>east pole</th>\n",
       "      <td>jared</td>\n",
       "      <td>30324</td>\n",
       "    </tr>\n",
       "    <tr>\n",
       "      <th>chrome yellow</th>\n",
       "      <td>kelly</td>\n",
       "      <td>30312</td>\n",
       "    </tr>\n",
       "    <tr>\n",
       "      <th>brash</th>\n",
       "      <td>matt</td>\n",
       "      <td>30318</td>\n",
       "    </tr>\n",
       "    <tr>\n",
       "      <th>taproom</th>\n",
       "      <td>jonathan</td>\n",
       "      <td>30317</td>\n",
       "    </tr>\n",
       "    <tr>\n",
       "      <th>3heart</th>\n",
       "      <td>nhan</td>\n",
       "      <td>30306</td>\n",
       "    </tr>\n",
       "    <tr>\n",
       "      <th>spiller park pcm</th>\n",
       "      <td>dale</td>\n",
       "      <td>30308</td>\n",
       "    </tr>\n",
       "    <tr>\n",
       "      <th>refuge</th>\n",
       "      <td>kitti</td>\n",
       "      <td>30303</td>\n",
       "    </tr>\n",
       "    <tr>\n",
       "      <th>toptime</th>\n",
       "      <td>nolan</td>\n",
       "      <td>30318</td>\n",
       "    </tr>\n",
       "  </tbody>\n",
       "</table>\n",
       "</div>"
      ],
      "text/plain": [
       "                       poc    zip\n",
       "name                             \n",
       "east pole            jared  30324\n",
       "chrome yellow        kelly  30312\n",
       "brash                 matt  30318\n",
       "taproom           jonathan  30317\n",
       "3heart                nhan  30306\n",
       "spiller park pcm      dale  30308\n",
       "refuge               kitti  30303\n",
       "toptime              nolan  30318"
      ]
     },
     "execution_count": 35,
     "metadata": {},
     "output_type": "execute_result"
    }
   ],
   "source": [
    "cafes2 = cafes[['poc', 'zip']]\n",
    "cafes2.index = cafes['name']\n",
    "#cafes2.index.name = None\n",
    "cafes2"
   ]
  },
  {
   "cell_type": "code",
   "execution_count": 36,
   "id": "4eed2040",
   "metadata": {},
   "outputs": [
    {
     "data": {
      "text/html": [
       "<div>\n",
       "<style scoped>\n",
       "    .dataframe tbody tr th:only-of-type {\n",
       "        vertical-align: middle;\n",
       "    }\n",
       "\n",
       "    .dataframe tbody tr th {\n",
       "        vertical-align: top;\n",
       "    }\n",
       "\n",
       "    .dataframe thead th {\n",
       "        text-align: right;\n",
       "    }\n",
       "</style>\n",
       "<table border=\"1\" class=\"dataframe\">\n",
       "  <thead>\n",
       "    <tr style=\"text-align: right;\">\n",
       "      <th></th>\n",
       "      <th>poc</th>\n",
       "      <th>zip</th>\n",
       "    </tr>\n",
       "  </thead>\n",
       "  <tbody>\n",
       "    <tr>\n",
       "      <th>east pole</th>\n",
       "      <td>jared</td>\n",
       "      <td>30324</td>\n",
       "    </tr>\n",
       "    <tr>\n",
       "      <th>chrome yellow</th>\n",
       "      <td>kelly</td>\n",
       "      <td>30312</td>\n",
       "    </tr>\n",
       "    <tr>\n",
       "      <th>brash</th>\n",
       "      <td>matt</td>\n",
       "      <td>30318</td>\n",
       "    </tr>\n",
       "    <tr>\n",
       "      <th>taproom</th>\n",
       "      <td>jonathan</td>\n",
       "      <td>30317</td>\n",
       "    </tr>\n",
       "    <tr>\n",
       "      <th>3heart</th>\n",
       "      <td>nhan</td>\n",
       "      <td>30306</td>\n",
       "    </tr>\n",
       "    <tr>\n",
       "      <th>spiller park pcm</th>\n",
       "      <td>dale</td>\n",
       "      <td>30308</td>\n",
       "    </tr>\n",
       "    <tr>\n",
       "      <th>refuge</th>\n",
       "      <td>kitti</td>\n",
       "      <td>30303</td>\n",
       "    </tr>\n",
       "    <tr>\n",
       "      <th>toptime</th>\n",
       "      <td>nolan</td>\n",
       "      <td>30318</td>\n",
       "    </tr>\n",
       "  </tbody>\n",
       "</table>\n",
       "</div>"
      ],
      "text/plain": [
       "                       poc    zip\n",
       "east pole            jared  30324\n",
       "chrome yellow        kelly  30312\n",
       "brash                 matt  30318\n",
       "taproom           jonathan  30317\n",
       "3heart                nhan  30306\n",
       "spiller park pcm      dale  30308\n",
       "refuge               kitti  30303\n",
       "toptime              nolan  30318"
      ]
     },
     "execution_count": 36,
     "metadata": {},
     "output_type": "execute_result"
    }
   ],
   "source": [
    "cafes2 = cafes[['poc', 'zip']]\n",
    "cafes2.index = cafes['name']\n",
    "cafes2.index.name = None\n",
    "cafes2"
   ]
  },
  {
   "cell_type": "code",
   "execution_count": 37,
   "id": "e8cef115",
   "metadata": {},
   "outputs": [
    {
     "data": {
      "text/html": [
       "<div>\n",
       "<style scoped>\n",
       "    .dataframe tbody tr th:only-of-type {\n",
       "        vertical-align: middle;\n",
       "    }\n",
       "\n",
       "    .dataframe tbody tr th {\n",
       "        vertical-align: top;\n",
       "    }\n",
       "\n",
       "    .dataframe thead th {\n",
       "        text-align: right;\n",
       "    }\n",
       "</style>\n",
       "<table border=\"1\" class=\"dataframe\">\n",
       "  <thead>\n",
       "    <tr style=\"text-align: right;\">\n",
       "      <th></th>\n",
       "      <th>name</th>\n",
       "      <th>zip</th>\n",
       "      <th>poc</th>\n",
       "    </tr>\n",
       "  </thead>\n",
       "  <tbody>\n",
       "    <tr>\n",
       "      <th>1</th>\n",
       "      <td>chrome yellow</td>\n",
       "      <td>30312</td>\n",
       "      <td>kelly</td>\n",
       "    </tr>\n",
       "    <tr>\n",
       "      <th>2</th>\n",
       "      <td>brash</td>\n",
       "      <td>30318</td>\n",
       "      <td>matt</td>\n",
       "    </tr>\n",
       "    <tr>\n",
       "      <th>3</th>\n",
       "      <td>taproom</td>\n",
       "      <td>30317</td>\n",
       "      <td>jonathan</td>\n",
       "    </tr>\n",
       "  </tbody>\n",
       "</table>\n",
       "</div>"
      ],
      "text/plain": [
       "            name    zip       poc\n",
       "1  chrome yellow  30312     kelly\n",
       "2          brash  30318      matt\n",
       "3        taproom  30317  jonathan"
      ]
     },
     "execution_count": 37,
     "metadata": {},
     "output_type": "execute_result"
    }
   ],
   "source": [
    "cafes.loc[1:3]\n",
    "#should correspond to the index of the dataframe"
   ]
  },
  {
   "cell_type": "code",
   "execution_count": 38,
   "id": "9fbcfbd5",
   "metadata": {},
   "outputs": [
    {
     "data": {
      "text/html": [
       "<div>\n",
       "<style scoped>\n",
       "    .dataframe tbody tr th:only-of-type {\n",
       "        vertical-align: middle;\n",
       "    }\n",
       "\n",
       "    .dataframe tbody tr th {\n",
       "        vertical-align: top;\n",
       "    }\n",
       "\n",
       "    .dataframe thead th {\n",
       "        text-align: right;\n",
       "    }\n",
       "</style>\n",
       "<table border=\"1\" class=\"dataframe\">\n",
       "  <thead>\n",
       "    <tr style=\"text-align: right;\">\n",
       "      <th></th>\n",
       "      <th>poc</th>\n",
       "      <th>zip</th>\n",
       "    </tr>\n",
       "  </thead>\n",
       "  <tbody>\n",
       "    <tr>\n",
       "      <th>east pole</th>\n",
       "      <td>jared</td>\n",
       "      <td>30324</td>\n",
       "    </tr>\n",
       "    <tr>\n",
       "      <th>refuge</th>\n",
       "      <td>kitti</td>\n",
       "      <td>30303</td>\n",
       "    </tr>\n",
       "  </tbody>\n",
       "</table>\n",
       "</div>"
      ],
      "text/plain": [
       "             poc    zip\n",
       "east pole  jared  30324\n",
       "refuge     kitti  30303"
      ]
     },
     "execution_count": 38,
     "metadata": {},
     "output_type": "execute_result"
    }
   ],
   "source": [
    "cafes2.loc[[\"east pole\",\"refuge\"]]\n",
    "#should correspond to the index of the dataframe"
   ]
  },
  {
   "cell_type": "code",
   "execution_count": 39,
   "id": "97e89a4a",
   "metadata": {},
   "outputs": [
    {
     "data": {
      "text/html": [
       "<div>\n",
       "<style scoped>\n",
       "    .dataframe tbody tr th:only-of-type {\n",
       "        vertical-align: middle;\n",
       "    }\n",
       "\n",
       "    .dataframe tbody tr th {\n",
       "        vertical-align: top;\n",
       "    }\n",
       "\n",
       "    .dataframe thead th {\n",
       "        text-align: right;\n",
       "    }\n",
       "</style>\n",
       "<table border=\"1\" class=\"dataframe\">\n",
       "  <thead>\n",
       "    <tr style=\"text-align: right;\">\n",
       "      <th></th>\n",
       "      <th>poc</th>\n",
       "      <th>zip</th>\n",
       "    </tr>\n",
       "  </thead>\n",
       "  <tbody>\n",
       "    <tr>\n",
       "      <th>chrome yellow</th>\n",
       "      <td>kelly</td>\n",
       "      <td>30312</td>\n",
       "    </tr>\n",
       "    <tr>\n",
       "      <th>taproom</th>\n",
       "      <td>jonathan</td>\n",
       "      <td>30317</td>\n",
       "    </tr>\n",
       "  </tbody>\n",
       "</table>\n",
       "</div>"
      ],
      "text/plain": [
       "                    poc    zip\n",
       "chrome yellow     kelly  30312\n",
       "taproom        jonathan  30317"
      ]
     },
     "execution_count": 39,
     "metadata": {},
     "output_type": "execute_result"
    }
   ],
   "source": [
    "cafes2.iloc[[1,3]]"
   ]
  },
  {
   "cell_type": "code",
   "execution_count": 40,
   "id": "2f8d4773",
   "metadata": {},
   "outputs": [
    {
     "data": {
      "text/html": [
       "<div>\n",
       "<style scoped>\n",
       "    .dataframe tbody tr th:only-of-type {\n",
       "        vertical-align: middle;\n",
       "    }\n",
       "\n",
       "    .dataframe tbody tr th {\n",
       "        vertical-align: top;\n",
       "    }\n",
       "\n",
       "    .dataframe thead th {\n",
       "        text-align: right;\n",
       "    }\n",
       "</style>\n",
       "<table border=\"1\" class=\"dataframe\">\n",
       "  <thead>\n",
       "    <tr style=\"text-align: right;\">\n",
       "      <th></th>\n",
       "      <th>poc</th>\n",
       "      <th>zip</th>\n",
       "    </tr>\n",
       "  </thead>\n",
       "  <tbody>\n",
       "    <tr>\n",
       "      <th>east pole</th>\n",
       "      <td>jared</td>\n",
       "      <td>30324</td>\n",
       "    </tr>\n",
       "    <tr>\n",
       "      <th>chrome yellow</th>\n",
       "      <td>kelly</td>\n",
       "      <td>30312</td>\n",
       "    </tr>\n",
       "    <tr>\n",
       "      <th>brash</th>\n",
       "      <td>matt</td>\n",
       "      <td>30318</td>\n",
       "    </tr>\n",
       "    <tr>\n",
       "      <th>taproom</th>\n",
       "      <td>jonathan</td>\n",
       "      <td>30317</td>\n",
       "    </tr>\n",
       "    <tr>\n",
       "      <th>3heart</th>\n",
       "      <td>nhan</td>\n",
       "      <td>30306</td>\n",
       "    </tr>\n",
       "    <tr>\n",
       "      <th>spiller park pcm</th>\n",
       "      <td>dale</td>\n",
       "      <td>30308</td>\n",
       "    </tr>\n",
       "  </tbody>\n",
       "</table>\n",
       "</div>"
      ],
      "text/plain": [
       "                       poc    zip\n",
       "east pole            jared  30324\n",
       "chrome yellow        kelly  30312\n",
       "brash                 matt  30318\n",
       "taproom           jonathan  30317\n",
       "3heart                nhan  30306\n",
       "spiller park pcm      dale  30308"
      ]
     },
     "execution_count": 40,
     "metadata": {},
     "output_type": "execute_result"
    }
   ],
   "source": [
    "cafes2.iloc[0:6]"
   ]
  },
  {
   "cell_type": "code",
   "execution_count": 41,
   "id": "6fb1aa2c",
   "metadata": {},
   "outputs": [
    {
     "data": {
      "text/html": [
       "<div>\n",
       "<style scoped>\n",
       "    .dataframe tbody tr th:only-of-type {\n",
       "        vertical-align: middle;\n",
       "    }\n",
       "\n",
       "    .dataframe tbody tr th {\n",
       "        vertical-align: top;\n",
       "    }\n",
       "\n",
       "    .dataframe thead th {\n",
       "        text-align: right;\n",
       "    }\n",
       "</style>\n",
       "<table border=\"1\" class=\"dataframe\">\n",
       "  <thead>\n",
       "    <tr style=\"text-align: right;\">\n",
       "      <th></th>\n",
       "      <th>name</th>\n",
       "      <th>zip</th>\n",
       "      <th>poc</th>\n",
       "    </tr>\n",
       "  </thead>\n",
       "  <tbody>\n",
       "    <tr>\n",
       "      <th>0</th>\n",
       "      <td>east pole</td>\n",
       "      <td>30324</td>\n",
       "      <td>jared</td>\n",
       "    </tr>\n",
       "    <tr>\n",
       "      <th>1</th>\n",
       "      <td>chrome yellow</td>\n",
       "      <td>30312</td>\n",
       "      <td>kelly</td>\n",
       "    </tr>\n",
       "    <tr>\n",
       "      <th>2</th>\n",
       "      <td>brash</td>\n",
       "      <td>30318</td>\n",
       "      <td>matt</td>\n",
       "    </tr>\n",
       "    <tr>\n",
       "      <th>3</th>\n",
       "      <td>taproom</td>\n",
       "      <td>30317</td>\n",
       "      <td>jonathan</td>\n",
       "    </tr>\n",
       "    <tr>\n",
       "      <th>4</th>\n",
       "      <td>3heart</td>\n",
       "      <td>30306</td>\n",
       "      <td>nhan</td>\n",
       "    </tr>\n",
       "    <tr>\n",
       "      <th>5</th>\n",
       "      <td>spiller park pcm</td>\n",
       "      <td>30308</td>\n",
       "      <td>dale</td>\n",
       "    </tr>\n",
       "    <tr>\n",
       "      <th>6</th>\n",
       "      <td>refuge</td>\n",
       "      <td>30303</td>\n",
       "      <td>kitti</td>\n",
       "    </tr>\n",
       "    <tr>\n",
       "      <th>7</th>\n",
       "      <td>toptime</td>\n",
       "      <td>30318</td>\n",
       "      <td>nolan</td>\n",
       "    </tr>\n",
       "  </tbody>\n",
       "</table>\n",
       "</div>"
      ],
      "text/plain": [
       "               name    zip       poc\n",
       "0         east pole  30324     jared\n",
       "1     chrome yellow  30312     kelly\n",
       "2             brash  30318      matt\n",
       "3           taproom  30317  jonathan\n",
       "4            3heart  30306      nhan\n",
       "5  spiller park pcm  30308      dale\n",
       "6            refuge  30303     kitti\n",
       "7           toptime  30318     nolan"
      ]
     },
     "execution_count": 41,
     "metadata": {},
     "output_type": "execute_result"
    }
   ],
   "source": [
    "cafes"
   ]
  },
  {
   "cell_type": "code",
   "execution_count": 42,
   "id": "4e9dad76",
   "metadata": {},
   "outputs": [],
   "source": [
    "cafes[\"rating\"] = 4"
   ]
  },
  {
   "cell_type": "code",
   "execution_count": 43,
   "id": "bb9393a3",
   "metadata": {},
   "outputs": [
    {
     "data": {
      "text/html": [
       "<div>\n",
       "<style scoped>\n",
       "    .dataframe tbody tr th:only-of-type {\n",
       "        vertical-align: middle;\n",
       "    }\n",
       "\n",
       "    .dataframe tbody tr th {\n",
       "        vertical-align: top;\n",
       "    }\n",
       "\n",
       "    .dataframe thead th {\n",
       "        text-align: right;\n",
       "    }\n",
       "</style>\n",
       "<table border=\"1\" class=\"dataframe\">\n",
       "  <thead>\n",
       "    <tr style=\"text-align: right;\">\n",
       "      <th></th>\n",
       "      <th>name</th>\n",
       "      <th>zip</th>\n",
       "      <th>poc</th>\n",
       "      <th>rating</th>\n",
       "      <th>value</th>\n",
       "    </tr>\n",
       "  </thead>\n",
       "  <tbody>\n",
       "    <tr>\n",
       "      <th>0</th>\n",
       "      <td>east pole</td>\n",
       "      <td>30324</td>\n",
       "      <td>jared</td>\n",
       "      <td>4</td>\n",
       "      <td>2.0</td>\n",
       "    </tr>\n",
       "    <tr>\n",
       "      <th>1</th>\n",
       "      <td>chrome yellow</td>\n",
       "      <td>30312</td>\n",
       "      <td>kelly</td>\n",
       "      <td>4</td>\n",
       "      <td>2.0</td>\n",
       "    </tr>\n",
       "    <tr>\n",
       "      <th>2</th>\n",
       "      <td>brash</td>\n",
       "      <td>30318</td>\n",
       "      <td>matt</td>\n",
       "      <td>4</td>\n",
       "      <td>2.0</td>\n",
       "    </tr>\n",
       "    <tr>\n",
       "      <th>3</th>\n",
       "      <td>taproom</td>\n",
       "      <td>30317</td>\n",
       "      <td>jonathan</td>\n",
       "      <td>4</td>\n",
       "      <td>2.0</td>\n",
       "    </tr>\n",
       "    <tr>\n",
       "      <th>4</th>\n",
       "      <td>3heart</td>\n",
       "      <td>30306</td>\n",
       "      <td>nhan</td>\n",
       "      <td>4</td>\n",
       "      <td>2.0</td>\n",
       "    </tr>\n",
       "    <tr>\n",
       "      <th>5</th>\n",
       "      <td>spiller park pcm</td>\n",
       "      <td>30308</td>\n",
       "      <td>dale</td>\n",
       "      <td>4</td>\n",
       "      <td>2.0</td>\n",
       "    </tr>\n",
       "    <tr>\n",
       "      <th>6</th>\n",
       "      <td>refuge</td>\n",
       "      <td>30303</td>\n",
       "      <td>kitti</td>\n",
       "      <td>4</td>\n",
       "      <td>2.0</td>\n",
       "    </tr>\n",
       "    <tr>\n",
       "      <th>7</th>\n",
       "      <td>toptime</td>\n",
       "      <td>30318</td>\n",
       "      <td>nolan</td>\n",
       "      <td>4</td>\n",
       "      <td>2.0</td>\n",
       "    </tr>\n",
       "  </tbody>\n",
       "</table>\n",
       "</div>"
      ],
      "text/plain": [
       "               name    zip       poc  rating  value\n",
       "0         east pole  30324     jared       4    2.0\n",
       "1     chrome yellow  30312     kelly       4    2.0\n",
       "2             brash  30318      matt       4    2.0\n",
       "3           taproom  30317  jonathan       4    2.0\n",
       "4            3heart  30306      nhan       4    2.0\n",
       "5  spiller park pcm  30308      dale       4    2.0\n",
       "6            refuge  30303     kitti       4    2.0\n",
       "7           toptime  30318     nolan       4    2.0"
      ]
     },
     "execution_count": 43,
     "metadata": {},
     "output_type": "execute_result"
    }
   ],
   "source": [
    "def calc_value(row):\n",
    "    return row['rating'] / 2\n",
    "\n",
    "cafes['value'] = cafes.apply(calc_value, axis=1)\n",
    "cafes"
   ]
  },
  {
   "cell_type": "markdown",
   "id": "d051489b",
   "metadata": {},
   "source": [
    "Use the above to apply row by row"
   ]
  },
  {
   "cell_type": "code",
   "execution_count": 44,
   "id": "c45193c7",
   "metadata": {},
   "outputs": [
    {
     "data": {
      "text/html": [
       "<div>\n",
       "<style scoped>\n",
       "    .dataframe tbody tr th:only-of-type {\n",
       "        vertical-align: middle;\n",
       "    }\n",
       "\n",
       "    .dataframe tbody tr th {\n",
       "        vertical-align: top;\n",
       "    }\n",
       "\n",
       "    .dataframe thead th {\n",
       "        text-align: right;\n",
       "    }\n",
       "</style>\n",
       "<table border=\"1\" class=\"dataframe\">\n",
       "  <thead>\n",
       "    <tr style=\"text-align: right;\">\n",
       "      <th></th>\n",
       "      <th>name</th>\n",
       "      <th>zip</th>\n",
       "      <th>poc</th>\n",
       "      <th>rating</th>\n",
       "      <th>value</th>\n",
       "    </tr>\n",
       "  </thead>\n",
       "  <tbody>\n",
       "    <tr>\n",
       "      <th>1</th>\n",
       "      <td>chrome yellow</td>\n",
       "      <td>30312</td>\n",
       "      <td>kelly</td>\n",
       "      <td>4</td>\n",
       "      <td>2.0</td>\n",
       "    </tr>\n",
       "    <tr>\n",
       "      <th>4</th>\n",
       "      <td>3heart</td>\n",
       "      <td>30306</td>\n",
       "      <td>nhan</td>\n",
       "      <td>4</td>\n",
       "      <td>2.0</td>\n",
       "    </tr>\n",
       "    <tr>\n",
       "      <th>5</th>\n",
       "      <td>spiller park pcm</td>\n",
       "      <td>30308</td>\n",
       "      <td>dale</td>\n",
       "      <td>4</td>\n",
       "      <td>2.0</td>\n",
       "    </tr>\n",
       "    <tr>\n",
       "      <th>6</th>\n",
       "      <td>refuge</td>\n",
       "      <td>30303</td>\n",
       "      <td>kitti</td>\n",
       "      <td>4</td>\n",
       "      <td>2.0</td>\n",
       "    </tr>\n",
       "    <tr>\n",
       "      <th>0</th>\n",
       "      <td>east pole</td>\n",
       "      <td>30324</td>\n",
       "      <td>jared</td>\n",
       "      <td>4</td>\n",
       "      <td>2.0</td>\n",
       "    </tr>\n",
       "    <tr>\n",
       "      <th>2</th>\n",
       "      <td>brash</td>\n",
       "      <td>30318</td>\n",
       "      <td>matt</td>\n",
       "      <td>4</td>\n",
       "      <td>2.0</td>\n",
       "    </tr>\n",
       "    <tr>\n",
       "      <th>3</th>\n",
       "      <td>taproom</td>\n",
       "      <td>30317</td>\n",
       "      <td>jonathan</td>\n",
       "      <td>4</td>\n",
       "      <td>2.0</td>\n",
       "    </tr>\n",
       "    <tr>\n",
       "      <th>7</th>\n",
       "      <td>toptime</td>\n",
       "      <td>30318</td>\n",
       "      <td>nolan</td>\n",
       "      <td>4</td>\n",
       "      <td>2.0</td>\n",
       "    </tr>\n",
       "  </tbody>\n",
       "</table>\n",
       "</div>"
      ],
      "text/plain": [
       "               name    zip       poc  rating  value\n",
       "1     chrome yellow  30312     kelly       4    2.0\n",
       "4            3heart  30306      nhan       4    2.0\n",
       "5  spiller park pcm  30308      dale       4    2.0\n",
       "6            refuge  30303     kitti       4    2.0\n",
       "0         east pole  30324     jared       4    2.0\n",
       "2             brash  30318      matt       4    2.0\n",
       "3           taproom  30317  jonathan       4    2.0\n",
       "7           toptime  30318     nolan       4    2.0"
      ]
     },
     "execution_count": 44,
     "metadata": {},
     "output_type": "execute_result"
    }
   ],
   "source": [
    "is_cheap = cafes['zip'] <= 30312\n",
    "#creates boolean series (True and False)\n",
    "cafes_location = cafes[is_cheap]\n",
    "cafes_location2 = cafes[~is_cheap]\n",
    "\n",
    "pd.concat([cafes_location, cafes_location2])"
   ]
  },
  {
   "cell_type": "markdown",
   "id": "7ca8f3c3",
   "metadata": {},
   "source": [
    "More on Index !"
   ]
  },
  {
   "cell_type": "code",
   "execution_count": 45,
   "id": "8e981cf4",
   "metadata": {},
   "outputs": [
    {
     "data": {
      "text/html": [
       "<div>\n",
       "<style scoped>\n",
       "    .dataframe tbody tr th:only-of-type {\n",
       "        vertical-align: middle;\n",
       "    }\n",
       "\n",
       "    .dataframe tbody tr th {\n",
       "        vertical-align: top;\n",
       "    }\n",
       "\n",
       "    .dataframe thead th {\n",
       "        text-align: right;\n",
       "    }\n",
       "</style>\n",
       "<table border=\"1\" class=\"dataframe\">\n",
       "  <thead>\n",
       "    <tr style=\"text-align: right;\">\n",
       "      <th></th>\n",
       "      <th>poc</th>\n",
       "      <th>zip</th>\n",
       "    </tr>\n",
       "  </thead>\n",
       "  <tbody>\n",
       "    <tr>\n",
       "      <th>east pole</th>\n",
       "      <td>jared</td>\n",
       "      <td>30324</td>\n",
       "    </tr>\n",
       "    <tr>\n",
       "      <th>chrome yellow</th>\n",
       "      <td>kelly</td>\n",
       "      <td>30312</td>\n",
       "    </tr>\n",
       "    <tr>\n",
       "      <th>brash</th>\n",
       "      <td>matt</td>\n",
       "      <td>30318</td>\n",
       "    </tr>\n",
       "    <tr>\n",
       "      <th>taproom</th>\n",
       "      <td>jonathan</td>\n",
       "      <td>30317</td>\n",
       "    </tr>\n",
       "    <tr>\n",
       "      <th>3heart</th>\n",
       "      <td>nhan</td>\n",
       "      <td>30306</td>\n",
       "    </tr>\n",
       "    <tr>\n",
       "      <th>spiller park pcm</th>\n",
       "      <td>dale</td>\n",
       "      <td>30308</td>\n",
       "    </tr>\n",
       "    <tr>\n",
       "      <th>refuge</th>\n",
       "      <td>kitti</td>\n",
       "      <td>30303</td>\n",
       "    </tr>\n",
       "    <tr>\n",
       "      <th>toptime</th>\n",
       "      <td>nolan</td>\n",
       "      <td>30318</td>\n",
       "    </tr>\n",
       "  </tbody>\n",
       "</table>\n",
       "</div>"
      ],
      "text/plain": [
       "                       poc    zip\n",
       "east pole            jared  30324\n",
       "chrome yellow        kelly  30312\n",
       "brash                 matt  30318\n",
       "taproom           jonathan  30317\n",
       "3heart                nhan  30306\n",
       "spiller park pcm      dale  30308\n",
       "refuge               kitti  30303\n",
       "toptime              nolan  30318"
      ]
     },
     "execution_count": 45,
     "metadata": {},
     "output_type": "execute_result"
    }
   ],
   "source": [
    "cafes2 = cafes[['poc', 'zip']]\n",
    "cafes2.index = cafes['name']\n",
    "cafes2.index.name = None\n",
    "cafes2"
   ]
  },
  {
   "cell_type": "code",
   "execution_count": 46,
   "id": "08aaa0a3",
   "metadata": {},
   "outputs": [
    {
     "data": {
      "text/plain": [
       "Index(['east pole', 'chrome yellow', 'brash', 'taproom', '3heart',\n",
       "       'spiller park pcm', 'refuge', 'toptime'],\n",
       "      dtype='object')"
      ]
     },
     "execution_count": 46,
     "metadata": {},
     "output_type": "execute_result"
    }
   ],
   "source": [
    "cafes2.index"
   ]
  },
  {
   "cell_type": "code",
   "execution_count": 47,
   "id": "5091967b",
   "metadata": {},
   "outputs": [
    {
     "data": {
      "text/plain": [
       "array([False, False,  True, False,  True, False, False, False])"
      ]
     },
     "execution_count": 47,
     "metadata": {},
     "output_type": "execute_result"
    }
   ],
   "source": [
    "cafes2.index.isin(['brash', '3heart'])"
   ]
  },
  {
   "cell_type": "code",
   "execution_count": 48,
   "id": "115e5374",
   "metadata": {},
   "outputs": [
    {
     "data": {
      "text/plain": [
       "Index(['3heart', 'brash', 'chattahoochee', 'chrome yellow', 'east pole',\n",
       "       'refuge', 'spiller park pcm', 'taproom', 'toptime'],\n",
       "      dtype='object')"
      ]
     },
     "execution_count": 48,
     "metadata": {},
     "output_type": "execute_result"
    }
   ],
   "source": [
    "cafes2.index.union(['chattahoochee'])"
   ]
  },
  {
   "cell_type": "code",
   "execution_count": 49,
   "id": "b846dca2",
   "metadata": {},
   "outputs": [
    {
     "data": {
      "text/plain": [
       "Index(['east pole', 'chrome yellow', 'brash', 'taproom', '3heart',\n",
       "       'spiller park pcm', 'refuge', 'toptime'],\n",
       "      dtype='object')"
      ]
     },
     "execution_count": 49,
     "metadata": {},
     "output_type": "execute_result"
    }
   ],
   "source": [
    "cafes2.index"
   ]
  },
  {
   "cell_type": "code",
   "execution_count": 50,
   "id": "8777ce6c",
   "metadata": {},
   "outputs": [
    {
     "data": {
      "text/html": [
       "<div>\n",
       "<style scoped>\n",
       "    .dataframe tbody tr th:only-of-type {\n",
       "        vertical-align: middle;\n",
       "    }\n",
       "\n",
       "    .dataframe tbody tr th {\n",
       "        vertical-align: top;\n",
       "    }\n",
       "\n",
       "    .dataframe thead th {\n",
       "        text-align: right;\n",
       "    }\n",
       "</style>\n",
       "<table border=\"1\" class=\"dataframe\">\n",
       "  <thead>\n",
       "    <tr style=\"text-align: right;\">\n",
       "      <th></th>\n",
       "      <th>poc</th>\n",
       "      <th>zip</th>\n",
       "    </tr>\n",
       "  </thead>\n",
       "  <tbody>\n",
       "    <tr>\n",
       "      <th>east pole</th>\n",
       "      <td>jared</td>\n",
       "      <td>30324</td>\n",
       "    </tr>\n",
       "    <tr>\n",
       "      <th>chrome yellow</th>\n",
       "      <td>kelly</td>\n",
       "      <td>30312</td>\n",
       "    </tr>\n",
       "    <tr>\n",
       "      <th>brash</th>\n",
       "      <td>matt</td>\n",
       "      <td>30318</td>\n",
       "    </tr>\n",
       "    <tr>\n",
       "      <th>taproom</th>\n",
       "      <td>jonathan</td>\n",
       "      <td>30317</td>\n",
       "    </tr>\n",
       "    <tr>\n",
       "      <th>3heart</th>\n",
       "      <td>nhan</td>\n",
       "      <td>30306</td>\n",
       "    </tr>\n",
       "    <tr>\n",
       "      <th>spiller park pcm</th>\n",
       "      <td>dale</td>\n",
       "      <td>30308</td>\n",
       "    </tr>\n",
       "    <tr>\n",
       "      <th>refuge</th>\n",
       "      <td>kitti</td>\n",
       "      <td>30303</td>\n",
       "    </tr>\n",
       "    <tr>\n",
       "      <th>toptime</th>\n",
       "      <td>nolan</td>\n",
       "      <td>30318</td>\n",
       "    </tr>\n",
       "  </tbody>\n",
       "</table>\n",
       "</div>"
      ],
      "text/plain": [
       "                       poc    zip\n",
       "east pole            jared  30324\n",
       "chrome yellow        kelly  30312\n",
       "brash                 matt  30318\n",
       "taproom           jonathan  30317\n",
       "3heart                nhan  30306\n",
       "spiller park pcm      dale  30308\n",
       "refuge               kitti  30303\n",
       "toptime              nolan  30318"
      ]
     },
     "execution_count": 50,
     "metadata": {},
     "output_type": "execute_result"
    }
   ],
   "source": [
    "cafes2"
   ]
  },
  {
   "cell_type": "code",
   "execution_count": 51,
   "id": "d049210c",
   "metadata": {},
   "outputs": [
    {
     "data": {
      "text/plain": [
       "Index(['3heart', 'brash', 'chrome yellow', 'east pole', 'refuge',\n",
       "       'spiller park pcm', 'taproom', 'toptime'],\n",
       "      dtype='object')"
      ]
     },
     "execution_count": 51,
     "metadata": {},
     "output_type": "execute_result"
    }
   ],
   "source": [
    "cafes2.index.difference(['chattahoochee', 'starbucks', 'bar crema'])"
   ]
  },
  {
   "cell_type": "code",
   "execution_count": 52,
   "id": "4c0da243",
   "metadata": {},
   "outputs": [
    {
     "data": {
      "text/html": [
       "<div>\n",
       "<style scoped>\n",
       "    .dataframe tbody tr th:only-of-type {\n",
       "        vertical-align: middle;\n",
       "    }\n",
       "\n",
       "    .dataframe tbody tr th {\n",
       "        vertical-align: top;\n",
       "    }\n",
       "\n",
       "    .dataframe thead th {\n",
       "        text-align: right;\n",
       "    }\n",
       "</style>\n",
       "<table border=\"1\" class=\"dataframe\">\n",
       "  <thead>\n",
       "    <tr style=\"text-align: right;\">\n",
       "      <th></th>\n",
       "      <th>poc</th>\n",
       "      <th>zip</th>\n",
       "    </tr>\n",
       "  </thead>\n",
       "  <tbody>\n",
       "    <tr>\n",
       "      <th>east pole</th>\n",
       "      <td>jared</td>\n",
       "      <td>30324</td>\n",
       "    </tr>\n",
       "    <tr>\n",
       "      <th>chrome yellow</th>\n",
       "      <td>kelly</td>\n",
       "      <td>30312</td>\n",
       "    </tr>\n",
       "    <tr>\n",
       "      <th>brash</th>\n",
       "      <td>matt</td>\n",
       "      <td>30318</td>\n",
       "    </tr>\n",
       "    <tr>\n",
       "      <th>taproom</th>\n",
       "      <td>jonathan</td>\n",
       "      <td>30317</td>\n",
       "    </tr>\n",
       "    <tr>\n",
       "      <th>3heart</th>\n",
       "      <td>nhan</td>\n",
       "      <td>30306</td>\n",
       "    </tr>\n",
       "    <tr>\n",
       "      <th>spiller park pcm</th>\n",
       "      <td>dale</td>\n",
       "      <td>30308</td>\n",
       "    </tr>\n",
       "    <tr>\n",
       "      <th>refuge</th>\n",
       "      <td>kitti</td>\n",
       "      <td>30303</td>\n",
       "    </tr>\n",
       "    <tr>\n",
       "      <th>toptime</th>\n",
       "      <td>nolan</td>\n",
       "      <td>30318</td>\n",
       "    </tr>\n",
       "  </tbody>\n",
       "</table>\n",
       "</div>"
      ],
      "text/plain": [
       "                       poc    zip\n",
       "east pole            jared  30324\n",
       "chrome yellow        kelly  30312\n",
       "brash                 matt  30318\n",
       "taproom           jonathan  30317\n",
       "3heart                nhan  30306\n",
       "spiller park pcm      dale  30308\n",
       "refuge               kitti  30303\n",
       "toptime              nolan  30318"
      ]
     },
     "metadata": {},
     "output_type": "display_data"
    },
    {
     "data": {
      "text/html": [
       "<div>\n",
       "<style scoped>\n",
       "    .dataframe tbody tr th:only-of-type {\n",
       "        vertical-align: middle;\n",
       "    }\n",
       "\n",
       "    .dataframe tbody tr th {\n",
       "        vertical-align: top;\n",
       "    }\n",
       "\n",
       "    .dataframe thead th {\n",
       "        text-align: right;\n",
       "    }\n",
       "</style>\n",
       "<table border=\"1\" class=\"dataframe\">\n",
       "  <thead>\n",
       "    <tr style=\"text-align: right;\">\n",
       "      <th></th>\n",
       "      <th>poc</th>\n",
       "      <th>zip</th>\n",
       "    </tr>\n",
       "  </thead>\n",
       "  <tbody>\n",
       "    <tr>\n",
       "      <th>3heart</th>\n",
       "      <td>nhan</td>\n",
       "      <td>30306.0</td>\n",
       "    </tr>\n",
       "    <tr>\n",
       "      <th>east pole</th>\n",
       "      <td>jared</td>\n",
       "      <td>30324.0</td>\n",
       "    </tr>\n",
       "    <tr>\n",
       "      <th>brash</th>\n",
       "      <td>matt</td>\n",
       "      <td>30318.0</td>\n",
       "    </tr>\n",
       "    <tr>\n",
       "      <th>starbucks</th>\n",
       "      <td>NaN</td>\n",
       "      <td>NaN</td>\n",
       "    </tr>\n",
       "  </tbody>\n",
       "</table>\n",
       "</div>"
      ],
      "text/plain": [
       "             poc      zip\n",
       "3heart      nhan  30306.0\n",
       "east pole  jared  30324.0\n",
       "brash       matt  30318.0\n",
       "starbucks    NaN      NaN"
      ]
     },
     "metadata": {},
     "output_type": "display_data"
    }
   ],
   "source": [
    "cafes5 = cafes2.reindex(pd.Index(['3heart', 'east pole', 'brash', 'starbucks']))\n",
    "\n",
    "display(cafes2)\n",
    "display(cafes5)"
   ]
  },
  {
   "cell_type": "code",
   "execution_count": 53,
   "id": "913f914d",
   "metadata": {},
   "outputs": [
    {
     "data": {
      "text/html": [
       "<div>\n",
       "<style scoped>\n",
       "    .dataframe tbody tr th:only-of-type {\n",
       "        vertical-align: middle;\n",
       "    }\n",
       "\n",
       "    .dataframe tbody tr th {\n",
       "        vertical-align: top;\n",
       "    }\n",
       "\n",
       "    .dataframe thead th {\n",
       "        text-align: right;\n",
       "    }\n",
       "</style>\n",
       "<table border=\"1\" class=\"dataframe\">\n",
       "  <thead>\n",
       "    <tr style=\"text-align: right;\">\n",
       "      <th></th>\n",
       "      <th>poc</th>\n",
       "      <th>zip</th>\n",
       "      <th>name</th>\n",
       "    </tr>\n",
       "  </thead>\n",
       "  <tbody>\n",
       "    <tr>\n",
       "      <th>0</th>\n",
       "      <td>jared</td>\n",
       "      <td>30324</td>\n",
       "      <td>east pole</td>\n",
       "    </tr>\n",
       "    <tr>\n",
       "      <th>1</th>\n",
       "      <td>kelly</td>\n",
       "      <td>30312</td>\n",
       "      <td>chrome yellow</td>\n",
       "    </tr>\n",
       "    <tr>\n",
       "      <th>2</th>\n",
       "      <td>matt</td>\n",
       "      <td>30318</td>\n",
       "      <td>brash</td>\n",
       "    </tr>\n",
       "    <tr>\n",
       "      <th>3</th>\n",
       "      <td>jonathan</td>\n",
       "      <td>30317</td>\n",
       "      <td>taproom</td>\n",
       "    </tr>\n",
       "    <tr>\n",
       "      <th>4</th>\n",
       "      <td>nhan</td>\n",
       "      <td>30306</td>\n",
       "      <td>3heart</td>\n",
       "    </tr>\n",
       "    <tr>\n",
       "      <th>5</th>\n",
       "      <td>dale</td>\n",
       "      <td>30308</td>\n",
       "      <td>spiller park pcm</td>\n",
       "    </tr>\n",
       "    <tr>\n",
       "      <th>6</th>\n",
       "      <td>kitti</td>\n",
       "      <td>30303</td>\n",
       "      <td>refuge</td>\n",
       "    </tr>\n",
       "    <tr>\n",
       "      <th>7</th>\n",
       "      <td>nolan</td>\n",
       "      <td>30318</td>\n",
       "      <td>toptime</td>\n",
       "    </tr>\n",
       "  </tbody>\n",
       "</table>\n",
       "</div>"
      ],
      "text/plain": [
       "        poc    zip              name\n",
       "0     jared  30324         east pole\n",
       "1     kelly  30312     chrome yellow\n",
       "2      matt  30318             brash\n",
       "3  jonathan  30317           taproom\n",
       "4      nhan  30306            3heart\n",
       "5      dale  30308  spiller park pcm\n",
       "6     kitti  30303            refuge\n",
       "7     nolan  30318           toptime"
      ]
     },
     "execution_count": 53,
     "metadata": {},
     "output_type": "execute_result"
    }
   ],
   "source": [
    "cafes6 = cafes2.reset_index(drop=True)\n",
    "cafes6['name'] = cafes2.index\n",
    "cafes6"
   ]
  },
  {
   "cell_type": "code",
   "execution_count": 54,
   "id": "758c5768",
   "metadata": {},
   "outputs": [
    {
     "data": {
      "text/html": [
       "<div>\n",
       "<style scoped>\n",
       "    .dataframe tbody tr th:only-of-type {\n",
       "        vertical-align: middle;\n",
       "    }\n",
       "\n",
       "    .dataframe tbody tr th {\n",
       "        vertical-align: top;\n",
       "    }\n",
       "\n",
       "    .dataframe thead th {\n",
       "        text-align: right;\n",
       "    }\n",
       "</style>\n",
       "<table border=\"1\" class=\"dataframe\">\n",
       "  <thead>\n",
       "    <tr style=\"text-align: right;\">\n",
       "      <th></th>\n",
       "      <th>name</th>\n",
       "      <th>zip</th>\n",
       "      <th>poc</th>\n",
       "      <th>rating</th>\n",
       "      <th>value</th>\n",
       "    </tr>\n",
       "  </thead>\n",
       "  <tbody>\n",
       "    <tr>\n",
       "      <th>0</th>\n",
       "      <td>east pole</td>\n",
       "      <td>30324</td>\n",
       "      <td>jared</td>\n",
       "      <td>4</td>\n",
       "      <td>2.0</td>\n",
       "    </tr>\n",
       "    <tr>\n",
       "      <th>1</th>\n",
       "      <td>chrome yellow</td>\n",
       "      <td>30312</td>\n",
       "      <td>kelly</td>\n",
       "      <td>4</td>\n",
       "      <td>2.0</td>\n",
       "    </tr>\n",
       "    <tr>\n",
       "      <th>2</th>\n",
       "      <td>brash</td>\n",
       "      <td>30318</td>\n",
       "      <td>matt</td>\n",
       "      <td>4</td>\n",
       "      <td>2.0</td>\n",
       "    </tr>\n",
       "    <tr>\n",
       "      <th>3</th>\n",
       "      <td>taproom</td>\n",
       "      <td>30317</td>\n",
       "      <td>jonathan</td>\n",
       "      <td>4</td>\n",
       "      <td>2.0</td>\n",
       "    </tr>\n",
       "    <tr>\n",
       "      <th>4</th>\n",
       "      <td>3heart</td>\n",
       "      <td>30306</td>\n",
       "      <td>nhan</td>\n",
       "      <td>4</td>\n",
       "      <td>2.0</td>\n",
       "    </tr>\n",
       "    <tr>\n",
       "      <th>5</th>\n",
       "      <td>spiller park pcm</td>\n",
       "      <td>30308</td>\n",
       "      <td>dale</td>\n",
       "      <td>4</td>\n",
       "      <td>2.0</td>\n",
       "    </tr>\n",
       "    <tr>\n",
       "      <th>6</th>\n",
       "      <td>refuge</td>\n",
       "      <td>30303</td>\n",
       "      <td>kitti</td>\n",
       "      <td>4</td>\n",
       "      <td>2.0</td>\n",
       "    </tr>\n",
       "    <tr>\n",
       "      <th>7</th>\n",
       "      <td>toptime</td>\n",
       "      <td>30318</td>\n",
       "      <td>nolan</td>\n",
       "      <td>4</td>\n",
       "      <td>2.0</td>\n",
       "    </tr>\n",
       "  </tbody>\n",
       "</table>\n",
       "</div>"
      ],
      "text/plain": [
       "               name    zip       poc  rating  value\n",
       "0         east pole  30324     jared       4    2.0\n",
       "1     chrome yellow  30312     kelly       4    2.0\n",
       "2             brash  30318      matt       4    2.0\n",
       "3           taproom  30317  jonathan       4    2.0\n",
       "4            3heart  30306      nhan       4    2.0\n",
       "5  spiller park pcm  30308      dale       4    2.0\n",
       "6            refuge  30303     kitti       4    2.0\n",
       "7           toptime  30318     nolan       4    2.0"
      ]
     },
     "execution_count": 54,
     "metadata": {},
     "output_type": "execute_result"
    }
   ],
   "source": [
    "cafes"
   ]
  },
  {
   "cell_type": "code",
   "execution_count": 55,
   "id": "86b8d1bf",
   "metadata": {},
   "outputs": [
    {
     "name": "stderr",
     "output_type": "stream",
     "text": [
      "c:\\users\\ayush\\appdata\\local\\programs\\python\\python37\\lib\\site-packages\\ipykernel_launcher.py:1: SettingWithCopyWarning: \n",
      "A value is trying to be set on a copy of a slice from a DataFrame.\n",
      "Try using .loc[row_indexer,col_indexer] = value instead\n",
      "\n",
      "See the caveats in the documentation: https://pandas.pydata.org/pandas-docs/stable/user_guide/indexing.html#returning-a-view-versus-a-copy\n",
      "  \"\"\"Entry point for launching an IPython kernel.\n",
      "c:\\users\\ayush\\appdata\\local\\programs\\python\\python37\\lib\\site-packages\\ipykernel_launcher.py:2: SettingWithCopyWarning: \n",
      "A value is trying to be set on a copy of a slice from a DataFrame.\n",
      "Try using .loc[row_indexer,col_indexer] = value instead\n",
      "\n",
      "See the caveats in the documentation: https://pandas.pydata.org/pandas-docs/stable/user_guide/indexing.html#returning-a-view-versus-a-copy\n",
      "  \n"
     ]
    },
    {
     "data": {
      "text/html": [
       "<div>\n",
       "<style scoped>\n",
       "    .dataframe tbody tr th:only-of-type {\n",
       "        vertical-align: middle;\n",
       "    }\n",
       "\n",
       "    .dataframe tbody tr th {\n",
       "        vertical-align: top;\n",
       "    }\n",
       "\n",
       "    .dataframe thead th {\n",
       "        text-align: right;\n",
       "    }\n",
       "</style>\n",
       "<table border=\"1\" class=\"dataframe\">\n",
       "  <thead>\n",
       "    <tr style=\"text-align: right;\">\n",
       "      <th></th>\n",
       "      <th>poc</th>\n",
       "      <th>zip</th>\n",
       "      <th>rating</th>\n",
       "      <th>price</th>\n",
       "    </tr>\n",
       "  </thead>\n",
       "  <tbody>\n",
       "    <tr>\n",
       "      <th>east pole</th>\n",
       "      <td>jared</td>\n",
       "      <td>30324</td>\n",
       "      <td>4.0</td>\n",
       "      <td>$$</td>\n",
       "    </tr>\n",
       "    <tr>\n",
       "      <th>chrome yellow</th>\n",
       "      <td>kelly</td>\n",
       "      <td>30312</td>\n",
       "      <td>4.0</td>\n",
       "      <td>$$</td>\n",
       "    </tr>\n",
       "    <tr>\n",
       "      <th>brash</th>\n",
       "      <td>matt</td>\n",
       "      <td>30318</td>\n",
       "      <td>4.0</td>\n",
       "      <td>$$</td>\n",
       "    </tr>\n",
       "    <tr>\n",
       "      <th>taproom</th>\n",
       "      <td>jonathan</td>\n",
       "      <td>30317</td>\n",
       "      <td>4.0</td>\n",
       "      <td>$$</td>\n",
       "    </tr>\n",
       "    <tr>\n",
       "      <th>3heart</th>\n",
       "      <td>nhan</td>\n",
       "      <td>30306</td>\n",
       "      <td>4.0</td>\n",
       "      <td>$$</td>\n",
       "    </tr>\n",
       "    <tr>\n",
       "      <th>spiller park pcm</th>\n",
       "      <td>dale</td>\n",
       "      <td>30308</td>\n",
       "      <td>4.0</td>\n",
       "      <td>$$</td>\n",
       "    </tr>\n",
       "    <tr>\n",
       "      <th>refuge</th>\n",
       "      <td>kitti</td>\n",
       "      <td>30303</td>\n",
       "      <td>4.0</td>\n",
       "      <td>$$</td>\n",
       "    </tr>\n",
       "    <tr>\n",
       "      <th>toptime</th>\n",
       "      <td>nolan</td>\n",
       "      <td>30318</td>\n",
       "      <td>4.0</td>\n",
       "      <td>$$</td>\n",
       "    </tr>\n",
       "  </tbody>\n",
       "</table>\n",
       "</div>"
      ],
      "text/plain": [
       "                       poc    zip  rating price\n",
       "east pole            jared  30324     4.0    $$\n",
       "chrome yellow        kelly  30312     4.0    $$\n",
       "brash                 matt  30318     4.0    $$\n",
       "taproom           jonathan  30317     4.0    $$\n",
       "3heart                nhan  30306     4.0    $$\n",
       "spiller park pcm      dale  30308     4.0    $$\n",
       "refuge               kitti  30303     4.0    $$\n",
       "toptime              nolan  30318     4.0    $$"
      ]
     },
     "execution_count": 55,
     "metadata": {},
     "output_type": "execute_result"
    }
   ],
   "source": [
    "cafes2['rating'] = 4.0\n",
    "cafes2['price'] = '$$'\n",
    "cafes2"
   ]
  },
  {
   "cell_type": "code",
   "execution_count": 56,
   "id": "528403c5",
   "metadata": {},
   "outputs": [
    {
     "data": {
      "text/plain": [
       "east pole           2\n",
       "chrome yellow       2\n",
       "brash               2\n",
       "taproom             2\n",
       "3heart              2\n",
       "spiller park pcm    2\n",
       "refuge              2\n",
       "toptime             2\n",
       "Name: price, dtype: int64"
      ]
     },
     "execution_count": 56,
     "metadata": {},
     "output_type": "execute_result"
    }
   ],
   "source": [
    "prices_as_ints = cafes2['price'].apply(lambda s: len(s))\n",
    "prices_as_ints"
   ]
  },
  {
   "cell_type": "code",
   "execution_count": 57,
   "id": "11a509bb",
   "metadata": {},
   "outputs": [
    {
     "data": {
      "text/html": [
       "<div>\n",
       "<style scoped>\n",
       "    .dataframe tbody tr th:only-of-type {\n",
       "        vertical-align: middle;\n",
       "    }\n",
       "\n",
       "    .dataframe tbody tr th {\n",
       "        vertical-align: top;\n",
       "    }\n",
       "\n",
       "    .dataframe thead th {\n",
       "        text-align: right;\n",
       "    }\n",
       "</style>\n",
       "<table border=\"1\" class=\"dataframe\">\n",
       "  <thead>\n",
       "    <tr style=\"text-align: right;\">\n",
       "      <th></th>\n",
       "      <th>poc</th>\n",
       "      <th>zip</th>\n",
       "      <th>rating</th>\n",
       "      <th>price</th>\n",
       "      <th>value</th>\n",
       "    </tr>\n",
       "  </thead>\n",
       "  <tbody>\n",
       "    <tr>\n",
       "      <th>east pole</th>\n",
       "      <td>jared</td>\n",
       "      <td>30324</td>\n",
       "      <td>4.0</td>\n",
       "      <td>$$</td>\n",
       "      <td>2.0</td>\n",
       "    </tr>\n",
       "    <tr>\n",
       "      <th>chrome yellow</th>\n",
       "      <td>kelly</td>\n",
       "      <td>30312</td>\n",
       "      <td>4.0</td>\n",
       "      <td>$$</td>\n",
       "      <td>2.0</td>\n",
       "    </tr>\n",
       "    <tr>\n",
       "      <th>brash</th>\n",
       "      <td>matt</td>\n",
       "      <td>30318</td>\n",
       "      <td>4.0</td>\n",
       "      <td>$$</td>\n",
       "      <td>2.0</td>\n",
       "    </tr>\n",
       "    <tr>\n",
       "      <th>taproom</th>\n",
       "      <td>jonathan</td>\n",
       "      <td>30317</td>\n",
       "      <td>4.0</td>\n",
       "      <td>$$</td>\n",
       "      <td>2.0</td>\n",
       "    </tr>\n",
       "    <tr>\n",
       "      <th>3heart</th>\n",
       "      <td>nhan</td>\n",
       "      <td>30306</td>\n",
       "      <td>4.0</td>\n",
       "      <td>$$</td>\n",
       "      <td>2.0</td>\n",
       "    </tr>\n",
       "    <tr>\n",
       "      <th>spiller park pcm</th>\n",
       "      <td>dale</td>\n",
       "      <td>30308</td>\n",
       "      <td>4.0</td>\n",
       "      <td>$$</td>\n",
       "      <td>2.0</td>\n",
       "    </tr>\n",
       "    <tr>\n",
       "      <th>refuge</th>\n",
       "      <td>kitti</td>\n",
       "      <td>30303</td>\n",
       "      <td>4.0</td>\n",
       "      <td>$$</td>\n",
       "      <td>2.0</td>\n",
       "    </tr>\n",
       "    <tr>\n",
       "      <th>toptime</th>\n",
       "      <td>nolan</td>\n",
       "      <td>30318</td>\n",
       "      <td>4.0</td>\n",
       "      <td>$$</td>\n",
       "      <td>2.0</td>\n",
       "    </tr>\n",
       "  </tbody>\n",
       "</table>\n",
       "</div>"
      ],
      "text/plain": [
       "                       poc    zip  rating price  value\n",
       "east pole            jared  30324     4.0    $$    2.0\n",
       "chrome yellow        kelly  30312     4.0    $$    2.0\n",
       "brash                 matt  30318     4.0    $$    2.0\n",
       "taproom           jonathan  30317     4.0    $$    2.0\n",
       "3heart                nhan  30306     4.0    $$    2.0\n",
       "spiller park pcm      dale  30308     4.0    $$    2.0\n",
       "refuge               kitti  30303     4.0    $$    2.0\n",
       "toptime              nolan  30318     4.0    $$    2.0"
      ]
     },
     "execution_count": 57,
     "metadata": {},
     "output_type": "execute_result"
    }
   ],
   "source": [
    "cafes2['value'] = cafes2['rating'] / prices_as_ints\n",
    "cafes2"
   ]
  },
  {
   "cell_type": "code",
   "execution_count": 58,
   "id": "748d37b7",
   "metadata": {},
   "outputs": [
    {
     "data": {
      "text/html": [
       "<div>\n",
       "<style scoped>\n",
       "    .dataframe tbody tr th:only-of-type {\n",
       "        vertical-align: middle;\n",
       "    }\n",
       "\n",
       "    .dataframe tbody tr th {\n",
       "        vertical-align: top;\n",
       "    }\n",
       "\n",
       "    .dataframe thead th {\n",
       "        text-align: right;\n",
       "    }\n",
       "</style>\n",
       "<table border=\"1\" class=\"dataframe\">\n",
       "  <thead>\n",
       "    <tr style=\"text-align: right;\">\n",
       "      <th></th>\n",
       "      <th>poc</th>\n",
       "      <th>zip</th>\n",
       "      <th>rating</th>\n",
       "      <th>price</th>\n",
       "      <th>value</th>\n",
       "    </tr>\n",
       "  </thead>\n",
       "  <tbody>\n",
       "    <tr>\n",
       "      <th>east pole</th>\n",
       "      <td>jared</td>\n",
       "      <td>30324</td>\n",
       "      <td>4.0</td>\n",
       "      <td>$$</td>\n",
       "      <td>2.0</td>\n",
       "    </tr>\n",
       "    <tr>\n",
       "      <th>chrome yellow</th>\n",
       "      <td>kelly</td>\n",
       "      <td>30312</td>\n",
       "      <td>4.0</td>\n",
       "      <td>$$</td>\n",
       "      <td>2.0</td>\n",
       "    </tr>\n",
       "    <tr>\n",
       "      <th>brash</th>\n",
       "      <td>matt</td>\n",
       "      <td>30318</td>\n",
       "      <td>4.0</td>\n",
       "      <td>$$</td>\n",
       "      <td>2.0</td>\n",
       "    </tr>\n",
       "    <tr>\n",
       "      <th>taproom</th>\n",
       "      <td>jonathan</td>\n",
       "      <td>30317</td>\n",
       "      <td>4.0</td>\n",
       "      <td>$$</td>\n",
       "      <td>2.0</td>\n",
       "    </tr>\n",
       "    <tr>\n",
       "      <th>3heart</th>\n",
       "      <td>nhan</td>\n",
       "      <td>30306</td>\n",
       "      <td>4.0</td>\n",
       "      <td>$$</td>\n",
       "      <td>2.0</td>\n",
       "    </tr>\n",
       "    <tr>\n",
       "      <th>spiller park pcm</th>\n",
       "      <td>dale</td>\n",
       "      <td>30308</td>\n",
       "      <td>4.0</td>\n",
       "      <td>$$</td>\n",
       "      <td>2.0</td>\n",
       "    </tr>\n",
       "    <tr>\n",
       "      <th>refuge</th>\n",
       "      <td>kitti</td>\n",
       "      <td>30303</td>\n",
       "      <td>4.0</td>\n",
       "      <td>$$</td>\n",
       "      <td>2.0</td>\n",
       "    </tr>\n",
       "    <tr>\n",
       "      <th>toptime</th>\n",
       "      <td>nolan</td>\n",
       "      <td>30318</td>\n",
       "      <td>4.0</td>\n",
       "      <td>$$</td>\n",
       "      <td>2.0</td>\n",
       "    </tr>\n",
       "  </tbody>\n",
       "</table>\n",
       "</div>"
      ],
      "text/plain": [
       "                       poc    zip  rating price  value\n",
       "east pole            jared  30324     4.0    $$    2.0\n",
       "chrome yellow        kelly  30312     4.0    $$    2.0\n",
       "brash                 matt  30318     4.0    $$    2.0\n",
       "taproom           jonathan  30317     4.0    $$    2.0\n",
       "3heart                nhan  30306     4.0    $$    2.0\n",
       "spiller park pcm      dale  30308     4.0    $$    2.0\n",
       "refuge               kitti  30303     4.0    $$    2.0\n",
       "toptime              nolan  30318     4.0    $$    2.0"
      ]
     },
     "execution_count": 58,
     "metadata": {},
     "output_type": "execute_result"
    }
   ],
   "source": [
    "cafes3 = cafes2.copy()\n",
    "cafes3"
   ]
  },
  {
   "cell_type": "code",
   "execution_count": 59,
   "id": "0dd07584",
   "metadata": {},
   "outputs": [
    {
     "data": {
      "text/plain": [
       "east pole           False\n",
       "chrome yellow       False\n",
       "brash               False\n",
       "taproom             False\n",
       "3heart               True\n",
       "spiller park pcm     True\n",
       "refuge              False\n",
       "toptime             False\n",
       "Name: zip, dtype: bool"
      ]
     },
     "execution_count": 59,
     "metadata": {},
     "output_type": "execute_result"
    }
   ],
   "source": [
    "is_fancy = cafes3['zip'].isin({30306, 30308})\n",
    "# Alternative:\n",
    "#is_fancy = cafes3['zip'].apply(lambda z: z in {30306, 30308})\n",
    "is_fancy"
   ]
  },
  {
   "cell_type": "code",
   "execution_count": 60,
   "id": "31c940be",
   "metadata": {},
   "outputs": [
    {
     "data": {
      "text/html": [
       "<div>\n",
       "<style scoped>\n",
       "    .dataframe tbody tr th:only-of-type {\n",
       "        vertical-align: middle;\n",
       "    }\n",
       "\n",
       "    .dataframe tbody tr th {\n",
       "        vertical-align: top;\n",
       "    }\n",
       "\n",
       "    .dataframe thead th {\n",
       "        text-align: right;\n",
       "    }\n",
       "</style>\n",
       "<table border=\"1\" class=\"dataframe\">\n",
       "  <thead>\n",
       "    <tr style=\"text-align: right;\">\n",
       "      <th></th>\n",
       "      <th>poc</th>\n",
       "      <th>zip</th>\n",
       "      <th>rating</th>\n",
       "      <th>price</th>\n",
       "      <th>value</th>\n",
       "    </tr>\n",
       "  </thead>\n",
       "  <tbody>\n",
       "    <tr>\n",
       "      <th>3heart</th>\n",
       "      <td>nhan</td>\n",
       "      <td>30306</td>\n",
       "      <td>4.0</td>\n",
       "      <td>$$</td>\n",
       "      <td>2.0</td>\n",
       "    </tr>\n",
       "    <tr>\n",
       "      <th>spiller park pcm</th>\n",
       "      <td>dale</td>\n",
       "      <td>30308</td>\n",
       "      <td>4.0</td>\n",
       "      <td>$$</td>\n",
       "      <td>2.0</td>\n",
       "    </tr>\n",
       "  </tbody>\n",
       "</table>\n",
       "</div>"
      ],
      "text/plain": [
       "                   poc    zip  rating price  value\n",
       "3heart            nhan  30306     4.0    $$    2.0\n",
       "spiller park pcm  dale  30308     4.0    $$    2.0"
      ]
     },
     "execution_count": 60,
     "metadata": {},
     "output_type": "execute_result"
    }
   ],
   "source": [
    "cafes3[is_fancy]"
   ]
  },
  {
   "cell_type": "code",
   "execution_count": 61,
   "id": "dc52d967",
   "metadata": {},
   "outputs": [
    {
     "data": {
      "text/html": [
       "<div>\n",
       "<style scoped>\n",
       "    .dataframe tbody tr th:only-of-type {\n",
       "        vertical-align: middle;\n",
       "    }\n",
       "\n",
       "    .dataframe tbody tr th {\n",
       "        vertical-align: top;\n",
       "    }\n",
       "\n",
       "    .dataframe thead th {\n",
       "        text-align: right;\n",
       "    }\n",
       "</style>\n",
       "<table border=\"1\" class=\"dataframe\">\n",
       "  <thead>\n",
       "    <tr style=\"text-align: right;\">\n",
       "      <th></th>\n",
       "      <th>poc</th>\n",
       "      <th>zip</th>\n",
       "      <th>rating</th>\n",
       "      <th>price</th>\n",
       "      <th>value</th>\n",
       "    </tr>\n",
       "  </thead>\n",
       "  <tbody>\n",
       "    <tr>\n",
       "      <th>east pole</th>\n",
       "      <td>jared</td>\n",
       "      <td>30324</td>\n",
       "      <td>4.0</td>\n",
       "      <td>$$</td>\n",
       "      <td>2.0</td>\n",
       "    </tr>\n",
       "    <tr>\n",
       "      <th>chrome yellow</th>\n",
       "      <td>kelly</td>\n",
       "      <td>30312</td>\n",
       "      <td>4.0</td>\n",
       "      <td>$$</td>\n",
       "      <td>2.0</td>\n",
       "    </tr>\n",
       "    <tr>\n",
       "      <th>brash</th>\n",
       "      <td>matt</td>\n",
       "      <td>30318</td>\n",
       "      <td>4.0</td>\n",
       "      <td>$$</td>\n",
       "      <td>2.0</td>\n",
       "    </tr>\n",
       "    <tr>\n",
       "      <th>taproom</th>\n",
       "      <td>jonathan</td>\n",
       "      <td>30317</td>\n",
       "      <td>4.0</td>\n",
       "      <td>$$</td>\n",
       "      <td>2.0</td>\n",
       "    </tr>\n",
       "    <tr>\n",
       "      <th>refuge</th>\n",
       "      <td>kitti</td>\n",
       "      <td>30303</td>\n",
       "      <td>4.0</td>\n",
       "      <td>$$</td>\n",
       "      <td>2.0</td>\n",
       "    </tr>\n",
       "    <tr>\n",
       "      <th>toptime</th>\n",
       "      <td>nolan</td>\n",
       "      <td>30318</td>\n",
       "      <td>4.0</td>\n",
       "      <td>$$</td>\n",
       "      <td>2.0</td>\n",
       "    </tr>\n",
       "  </tbody>\n",
       "</table>\n",
       "</div>"
      ],
      "text/plain": [
       "                    poc    zip  rating price  value\n",
       "east pole         jared  30324     4.0    $$    2.0\n",
       "chrome yellow     kelly  30312     4.0    $$    2.0\n",
       "brash              matt  30318     4.0    $$    2.0\n",
       "taproom        jonathan  30317     4.0    $$    2.0\n",
       "refuge            kitti  30303     4.0    $$    2.0\n",
       "toptime           nolan  30318     4.0    $$    2.0"
      ]
     },
     "execution_count": 61,
     "metadata": {},
     "output_type": "execute_result"
    }
   ],
   "source": [
    "cafes3[~is_fancy]"
   ]
  },
  {
   "cell_type": "code",
   "execution_count": 62,
   "id": "dc27dcec",
   "metadata": {},
   "outputs": [
    {
     "data": {
      "text/html": [
       "<div>\n",
       "<style scoped>\n",
       "    .dataframe tbody tr th:only-of-type {\n",
       "        vertical-align: middle;\n",
       "    }\n",
       "\n",
       "    .dataframe tbody tr th {\n",
       "        vertical-align: top;\n",
       "    }\n",
       "\n",
       "    .dataframe thead th {\n",
       "        text-align: right;\n",
       "    }\n",
       "</style>\n",
       "<table border=\"1\" class=\"dataframe\">\n",
       "  <thead>\n",
       "    <tr style=\"text-align: right;\">\n",
       "      <th></th>\n",
       "      <th>poc</th>\n",
       "      <th>zip</th>\n",
       "      <th>rating</th>\n",
       "      <th>price</th>\n",
       "      <th>value</th>\n",
       "    </tr>\n",
       "  </thead>\n",
       "  <tbody>\n",
       "    <tr>\n",
       "      <th>east pole</th>\n",
       "      <td>jared</td>\n",
       "      <td>30324</td>\n",
       "      <td>4.0</td>\n",
       "      <td>$$</td>\n",
       "      <td>2.0</td>\n",
       "    </tr>\n",
       "    <tr>\n",
       "      <th>chrome yellow</th>\n",
       "      <td>kelly</td>\n",
       "      <td>30312</td>\n",
       "      <td>4.0</td>\n",
       "      <td>$$</td>\n",
       "      <td>2.0</td>\n",
       "    </tr>\n",
       "    <tr>\n",
       "      <th>brash</th>\n",
       "      <td>matt</td>\n",
       "      <td>30318</td>\n",
       "      <td>4.0</td>\n",
       "      <td>$$</td>\n",
       "      <td>2.0</td>\n",
       "    </tr>\n",
       "    <tr>\n",
       "      <th>taproom</th>\n",
       "      <td>jonathan</td>\n",
       "      <td>30317</td>\n",
       "      <td>4.0</td>\n",
       "      <td>$$</td>\n",
       "      <td>2.0</td>\n",
       "    </tr>\n",
       "    <tr>\n",
       "      <th>3heart</th>\n",
       "      <td>nhan</td>\n",
       "      <td>30306</td>\n",
       "      <td>4.0</td>\n",
       "      <td>$$</td>\n",
       "      <td>2.0</td>\n",
       "    </tr>\n",
       "    <tr>\n",
       "      <th>spiller park pcm</th>\n",
       "      <td>dale</td>\n",
       "      <td>30308</td>\n",
       "      <td>4.0</td>\n",
       "      <td>$$</td>\n",
       "      <td>2.0</td>\n",
       "    </tr>\n",
       "    <tr>\n",
       "      <th>refuge</th>\n",
       "      <td>kitti</td>\n",
       "      <td>30303</td>\n",
       "      <td>4.0</td>\n",
       "      <td>$$</td>\n",
       "      <td>2.0</td>\n",
       "    </tr>\n",
       "    <tr>\n",
       "      <th>toptime</th>\n",
       "      <td>nolan</td>\n",
       "      <td>30318</td>\n",
       "      <td>4.0</td>\n",
       "      <td>$$</td>\n",
       "      <td>2.0</td>\n",
       "    </tr>\n",
       "  </tbody>\n",
       "</table>\n",
       "</div>"
      ],
      "text/plain": [
       "                       poc    zip  rating price  value\n",
       "east pole            jared  30324     4.0    $$    2.0\n",
       "chrome yellow        kelly  30312     4.0    $$    2.0\n",
       "brash                 matt  30318     4.0    $$    2.0\n",
       "taproom           jonathan  30317     4.0    $$    2.0\n",
       "3heart                nhan  30306     4.0    $$    2.0\n",
       "spiller park pcm      dale  30308     4.0    $$    2.0\n",
       "refuge               kitti  30303     4.0    $$    2.0\n",
       "toptime              nolan  30318     4.0    $$    2.0"
      ]
     },
     "execution_count": 62,
     "metadata": {},
     "output_type": "execute_result"
    }
   ],
   "source": [
    "cafes3"
   ]
  },
  {
   "cell_type": "code",
   "execution_count": 63,
   "id": "66581e41",
   "metadata": {},
   "outputs": [
    {
     "data": {
      "text/html": [
       "<div>\n",
       "<style scoped>\n",
       "    .dataframe tbody tr th:only-of-type {\n",
       "        vertical-align: middle;\n",
       "    }\n",
       "\n",
       "    .dataframe tbody tr th {\n",
       "        vertical-align: top;\n",
       "    }\n",
       "\n",
       "    .dataframe thead th {\n",
       "        text-align: right;\n",
       "    }\n",
       "</style>\n",
       "<table border=\"1\" class=\"dataframe\">\n",
       "  <thead>\n",
       "    <tr style=\"text-align: right;\">\n",
       "      <th></th>\n",
       "      <th>poc</th>\n",
       "      <th>zip</th>\n",
       "      <th>rating</th>\n",
       "      <th>price</th>\n",
       "      <th>value</th>\n",
       "    </tr>\n",
       "  </thead>\n",
       "  <tbody>\n",
       "    <tr>\n",
       "      <th>east pole</th>\n",
       "      <td>jared</td>\n",
       "      <td>30324</td>\n",
       "      <td>4.0</td>\n",
       "      <td>$$</td>\n",
       "      <td>2.0</td>\n",
       "    </tr>\n",
       "    <tr>\n",
       "      <th>chrome yellow</th>\n",
       "      <td>kelly</td>\n",
       "      <td>30312</td>\n",
       "      <td>4.0</td>\n",
       "      <td>$$</td>\n",
       "      <td>2.0</td>\n",
       "    </tr>\n",
       "    <tr>\n",
       "      <th>brash</th>\n",
       "      <td>matt</td>\n",
       "      <td>30318</td>\n",
       "      <td>4.0</td>\n",
       "      <td>$$</td>\n",
       "      <td>2.0</td>\n",
       "    </tr>\n",
       "    <tr>\n",
       "      <th>taproom</th>\n",
       "      <td>jonathan</td>\n",
       "      <td>30317</td>\n",
       "      <td>4.0</td>\n",
       "      <td>$$</td>\n",
       "      <td>2.0</td>\n",
       "    </tr>\n",
       "    <tr>\n",
       "      <th>3heart</th>\n",
       "      <td>nhan</td>\n",
       "      <td>30306</td>\n",
       "      <td>4.0</td>\n",
       "      <td>$$$</td>\n",
       "      <td>2.0</td>\n",
       "    </tr>\n",
       "    <tr>\n",
       "      <th>spiller park pcm</th>\n",
       "      <td>dale</td>\n",
       "      <td>30308</td>\n",
       "      <td>4.0</td>\n",
       "      <td>$$$</td>\n",
       "      <td>2.0</td>\n",
       "    </tr>\n",
       "    <tr>\n",
       "      <th>refuge</th>\n",
       "      <td>kitti</td>\n",
       "      <td>30303</td>\n",
       "      <td>4.0</td>\n",
       "      <td>$$</td>\n",
       "      <td>2.0</td>\n",
       "    </tr>\n",
       "    <tr>\n",
       "      <th>toptime</th>\n",
       "      <td>nolan</td>\n",
       "      <td>30318</td>\n",
       "      <td>4.0</td>\n",
       "      <td>$$</td>\n",
       "      <td>2.0</td>\n",
       "    </tr>\n",
       "  </tbody>\n",
       "</table>\n",
       "</div>"
      ],
      "text/plain": [
       "                       poc    zip  rating price  value\n",
       "east pole            jared  30324     4.0    $$    2.0\n",
       "chrome yellow        kelly  30312     4.0    $$    2.0\n",
       "brash                 matt  30318     4.0    $$    2.0\n",
       "taproom           jonathan  30317     4.0    $$    2.0\n",
       "3heart                nhan  30306     4.0   $$$    2.0\n",
       "spiller park pcm      dale  30308     4.0   $$$    2.0\n",
       "refuge               kitti  30303     4.0    $$    2.0\n",
       "toptime              nolan  30318     4.0    $$    2.0"
      ]
     },
     "execution_count": 63,
     "metadata": {},
     "output_type": "execute_result"
    }
   ],
   "source": [
    "cafes3.loc[is_fancy, 'price'] += '$'\n",
    "cafes3"
   ]
  },
  {
   "cell_type": "markdown",
   "id": "46211db2",
   "metadata": {},
   "source": [
    "You can have a particular index as well in place of is_fancy\n",
    "Error above gives hint - c:\\users\\ayush\\appdata\\local\\programs\\python\\python39\\lib\\site-packages\\pandas\\core\\frame.py:3607: SettingWithCopyWarning: \n",
    "A value is trying to be set on a copy of a slice from a DataFrame.\n",
    "Try using .loc[row_indexer,col_indexer] = value instead"
   ]
  },
  {
   "cell_type": "code",
   "execution_count": 64,
   "id": "a33eeb33",
   "metadata": {},
   "outputs": [
    {
     "data": {
      "text/plain": [
       "30306"
      ]
     },
     "execution_count": 64,
     "metadata": {},
     "output_type": "execute_result"
    }
   ],
   "source": [
    "cafes3[\"zip\"][\"3heart\"]"
   ]
  },
  {
   "cell_type": "code",
   "execution_count": 65,
   "id": "bc441a10",
   "metadata": {},
   "outputs": [
    {
     "data": {
      "text/plain": [
       "30306"
      ]
     },
     "execution_count": 65,
     "metadata": {},
     "output_type": "execute_result"
    }
   ],
   "source": [
    "cafes3.iloc[4][1]"
   ]
  },
  {
   "cell_type": "markdown",
   "id": "ffa67bc2",
   "metadata": {},
   "source": [
    "Method 2"
   ]
  },
  {
   "cell_type": "code",
   "execution_count": 66,
   "id": "b3655a23",
   "metadata": {},
   "outputs": [
    {
     "data": {
      "text/html": [
       "<div>\n",
       "<style scoped>\n",
       "    .dataframe tbody tr th:only-of-type {\n",
       "        vertical-align: middle;\n",
       "    }\n",
       "\n",
       "    .dataframe tbody tr th {\n",
       "        vertical-align: top;\n",
       "    }\n",
       "\n",
       "    .dataframe thead th {\n",
       "        text-align: right;\n",
       "    }\n",
       "</style>\n",
       "<table border=\"1\" class=\"dataframe\">\n",
       "  <thead>\n",
       "    <tr style=\"text-align: right;\">\n",
       "      <th></th>\n",
       "      <th>poc</th>\n",
       "      <th>zip</th>\n",
       "      <th>rating</th>\n",
       "      <th>price</th>\n",
       "      <th>value</th>\n",
       "    </tr>\n",
       "  </thead>\n",
       "  <tbody>\n",
       "    <tr>\n",
       "      <th>east pole</th>\n",
       "      <td>jared</td>\n",
       "      <td>30324</td>\n",
       "      <td>4.0</td>\n",
       "      <td>$$</td>\n",
       "      <td>2.0</td>\n",
       "    </tr>\n",
       "    <tr>\n",
       "      <th>chrome yellow</th>\n",
       "      <td>kelly</td>\n",
       "      <td>30312</td>\n",
       "      <td>4.0</td>\n",
       "      <td>$$</td>\n",
       "      <td>2.0</td>\n",
       "    </tr>\n",
       "    <tr>\n",
       "      <th>brash</th>\n",
       "      <td>matt</td>\n",
       "      <td>30318</td>\n",
       "      <td>4.0</td>\n",
       "      <td>$$</td>\n",
       "      <td>2.0</td>\n",
       "    </tr>\n",
       "    <tr>\n",
       "      <th>taproom</th>\n",
       "      <td>jonathan</td>\n",
       "      <td>30317</td>\n",
       "      <td>4.0</td>\n",
       "      <td>$$</td>\n",
       "      <td>2.0</td>\n",
       "    </tr>\n",
       "    <tr>\n",
       "      <th>3heart</th>\n",
       "      <td>nhan</td>\n",
       "      <td>30306</td>\n",
       "      <td>4.0</td>\n",
       "      <td>$$$</td>\n",
       "      <td>2.0</td>\n",
       "    </tr>\n",
       "    <tr>\n",
       "      <th>spiller park pcm</th>\n",
       "      <td>dale</td>\n",
       "      <td>30308</td>\n",
       "      <td>4.0</td>\n",
       "      <td>$$$</td>\n",
       "      <td>2.0</td>\n",
       "    </tr>\n",
       "    <tr>\n",
       "      <th>refuge</th>\n",
       "      <td>kitti</td>\n",
       "      <td>30303</td>\n",
       "      <td>4.0</td>\n",
       "      <td>$$</td>\n",
       "      <td>2.0</td>\n",
       "    </tr>\n",
       "    <tr>\n",
       "      <th>toptime</th>\n",
       "      <td>nolan</td>\n",
       "      <td>30318</td>\n",
       "      <td>4.0</td>\n",
       "      <td>$$</td>\n",
       "      <td>2.0</td>\n",
       "    </tr>\n",
       "  </tbody>\n",
       "</table>\n",
       "</div>"
      ],
      "text/plain": [
       "                       poc    zip  rating price  value\n",
       "east pole            jared  30324     4.0    $$    2.0\n",
       "chrome yellow        kelly  30312     4.0    $$    2.0\n",
       "brash                 matt  30318     4.0    $$    2.0\n",
       "taproom           jonathan  30317     4.0    $$    2.0\n",
       "3heart                nhan  30306     4.0   $$$    2.0\n",
       "spiller park pcm      dale  30308     4.0   $$$    2.0\n",
       "refuge               kitti  30303     4.0    $$    2.0\n",
       "toptime              nolan  30318     4.0    $$    2.0"
      ]
     },
     "execution_count": 66,
     "metadata": {},
     "output_type": "execute_result"
    }
   ],
   "source": [
    "cafes4 = cafes2.copy()\n",
    "cafes4['price'] += pd.Series([x * '$' for x in is_fancy.tolist()], index=is_fancy.index)\n",
    "cafes4"
   ]
  },
  {
   "cell_type": "markdown",
   "id": "e420cc46",
   "metadata": {},
   "source": [
    "apply is for column if applied on dataset,\n",
    "apply is for every row if done on one column of dataset!!!\n",
    "Very important.\n",
    "See that last soln of exercise!"
   ]
  },
  {
   "cell_type": "code",
   "execution_count": null,
   "id": "914fdf8d",
   "metadata": {},
   "outputs": [],
   "source": []
  },
  {
   "cell_type": "code",
   "execution_count": 67,
   "id": "26b7b307",
   "metadata": {},
   "outputs": [
    {
     "data": {
      "text/html": [
       "<div>\n",
       "<style scoped>\n",
       "    .dataframe tbody tr th:only-of-type {\n",
       "        vertical-align: middle;\n",
       "    }\n",
       "\n",
       "    .dataframe tbody tr th {\n",
       "        vertical-align: top;\n",
       "    }\n",
       "\n",
       "    .dataframe thead th {\n",
       "        text-align: right;\n",
       "    }\n",
       "</style>\n",
       "<table border=\"1\" class=\"dataframe\">\n",
       "  <thead>\n",
       "    <tr style=\"text-align: right;\">\n",
       "      <th></th>\n",
       "      <th>name</th>\n",
       "      <th>zip</th>\n",
       "      <th>poc</th>\n",
       "      <th>rating</th>\n",
       "      <th>value</th>\n",
       "    </tr>\n",
       "  </thead>\n",
       "  <tbody>\n",
       "    <tr>\n",
       "      <th>0</th>\n",
       "      <td>east pole</td>\n",
       "      <td>30324</td>\n",
       "      <td>jared</td>\n",
       "      <td>4</td>\n",
       "      <td>2.0</td>\n",
       "    </tr>\n",
       "  </tbody>\n",
       "</table>\n",
       "</div>"
      ],
      "text/plain": [
       "        name    zip    poc  rating  value\n",
       "0  east pole  30324  jared       4    2.0"
      ]
     },
     "execution_count": 67,
     "metadata": {},
     "output_type": "execute_result"
    }
   ],
   "source": [
    "#filter\n",
    "cafes[cafes.zip > 30323]"
   ]
  },
  {
   "cell_type": "code",
   "execution_count": 68,
   "id": "15f47e4b",
   "metadata": {},
   "outputs": [
    {
     "data": {
      "text/html": [
       "<div>\n",
       "<style scoped>\n",
       "    .dataframe tbody tr th:only-of-type {\n",
       "        vertical-align: middle;\n",
       "    }\n",
       "\n",
       "    .dataframe tbody tr th {\n",
       "        vertical-align: top;\n",
       "    }\n",
       "\n",
       "    .dataframe thead th {\n",
       "        text-align: right;\n",
       "    }\n",
       "</style>\n",
       "<table border=\"1\" class=\"dataframe\">\n",
       "  <thead>\n",
       "    <tr style=\"text-align: right;\">\n",
       "      <th></th>\n",
       "      <th>name</th>\n",
       "      <th>zip</th>\n",
       "      <th>poc</th>\n",
       "      <th>rating</th>\n",
       "      <th>value</th>\n",
       "    </tr>\n",
       "  </thead>\n",
       "  <tbody>\n",
       "    <tr>\n",
       "      <th>0</th>\n",
       "      <td>east pole</td>\n",
       "      <td>30324</td>\n",
       "      <td>jared</td>\n",
       "      <td>4</td>\n",
       "      <td>2.0</td>\n",
       "    </tr>\n",
       "    <tr>\n",
       "      <th>2</th>\n",
       "      <td>brash</td>\n",
       "      <td>30318</td>\n",
       "      <td>matt</td>\n",
       "      <td>4</td>\n",
       "      <td>2.0</td>\n",
       "    </tr>\n",
       "    <tr>\n",
       "      <th>7</th>\n",
       "      <td>toptime</td>\n",
       "      <td>30318</td>\n",
       "      <td>nolan</td>\n",
       "      <td>4</td>\n",
       "      <td>2.0</td>\n",
       "    </tr>\n",
       "    <tr>\n",
       "      <th>3</th>\n",
       "      <td>taproom</td>\n",
       "      <td>30317</td>\n",
       "      <td>jonathan</td>\n",
       "      <td>4</td>\n",
       "      <td>2.0</td>\n",
       "    </tr>\n",
       "    <tr>\n",
       "      <th>1</th>\n",
       "      <td>chrome yellow</td>\n",
       "      <td>30312</td>\n",
       "      <td>kelly</td>\n",
       "      <td>4</td>\n",
       "      <td>2.0</td>\n",
       "    </tr>\n",
       "    <tr>\n",
       "      <th>5</th>\n",
       "      <td>spiller park pcm</td>\n",
       "      <td>30308</td>\n",
       "      <td>dale</td>\n",
       "      <td>4</td>\n",
       "      <td>2.0</td>\n",
       "    </tr>\n",
       "    <tr>\n",
       "      <th>4</th>\n",
       "      <td>3heart</td>\n",
       "      <td>30306</td>\n",
       "      <td>nhan</td>\n",
       "      <td>4</td>\n",
       "      <td>2.0</td>\n",
       "    </tr>\n",
       "    <tr>\n",
       "      <th>6</th>\n",
       "      <td>refuge</td>\n",
       "      <td>30303</td>\n",
       "      <td>kitti</td>\n",
       "      <td>4</td>\n",
       "      <td>2.0</td>\n",
       "    </tr>\n",
       "  </tbody>\n",
       "</table>\n",
       "</div>"
      ],
      "text/plain": [
       "               name    zip       poc  rating  value\n",
       "0         east pole  30324     jared       4    2.0\n",
       "2             brash  30318      matt       4    2.0\n",
       "7           toptime  30318     nolan       4    2.0\n",
       "3           taproom  30317  jonathan       4    2.0\n",
       "1     chrome yellow  30312     kelly       4    2.0\n",
       "5  spiller park pcm  30308      dale       4    2.0\n",
       "4            3heart  30306      nhan       4    2.0\n",
       "6            refuge  30303     kitti       4    2.0"
      ]
     },
     "execution_count": 68,
     "metadata": {},
     "output_type": "execute_result"
    }
   ],
   "source": [
    "#var_names = sorted(X.columns)\n",
    "#sort\n",
    "cafes.sort_values(by = [\"zip\",\"rating\"], ascending = [False,True])"
   ]
  },
  {
   "cell_type": "code",
   "execution_count": 69,
   "id": "cbee882c",
   "metadata": {},
   "outputs": [],
   "source": [
    "#rename\n",
    "cafes.rename(columns = {\"name\":\"namee\",\"value\":\"valuee\"},inplace=True)"
   ]
  },
  {
   "cell_type": "code",
   "execution_count": 70,
   "id": "747c5cf6",
   "metadata": {},
   "outputs": [
    {
     "data": {
      "text/plain": [
       "array([30324, 30312, 30318, 30317, 30306, 30308, 30303], dtype=int64)"
      ]
     },
     "execution_count": 70,
     "metadata": {},
     "output_type": "execute_result"
    }
   ],
   "source": [
    "#unique\n",
    "cafes.zip.unique()"
   ]
  },
  {
   "cell_type": "code",
   "execution_count": 71,
   "id": "e5341356",
   "metadata": {},
   "outputs": [
    {
     "data": {
      "text/plain": [
       "7"
      ]
     },
     "execution_count": 71,
     "metadata": {},
     "output_type": "execute_result"
    }
   ],
   "source": [
    "cafes.zip.nunique()"
   ]
  },
  {
   "cell_type": "code",
   "execution_count": 72,
   "id": "46573e98",
   "metadata": {},
   "outputs": [],
   "source": [
    "#delete\n",
    "del cafes[\"valuee\"]"
   ]
  },
  {
   "cell_type": "code",
   "execution_count": 73,
   "id": "609a045b",
   "metadata": {},
   "outputs": [],
   "source": [
    "# C = A.merge (B, on=['country', 'year'])\n",
    "# C = A.merge (B, on=['country', 'year'], how = \"right\")\n",
    "# C = A.merge (B, left_on=['country'],right_on = ['year'], how = \"right\")\n"
   ]
  },
  {
   "cell_type": "code",
   "execution_count": 74,
   "id": "4fcd8856",
   "metadata": {},
   "outputs": [],
   "source": [
    "# df_plot.dropna(inplace=True)\n",
    "# who3.drop(\"case_type\", axis=1, inplace = True)"
   ]
  },
  {
   "cell_type": "code",
   "execution_count": 75,
   "id": "b5bb26cc",
   "metadata": {},
   "outputs": [],
   "source": [
    "# A.equals(B)"
   ]
  },
  {
   "cell_type": "code",
   "execution_count": 76,
   "id": "343424b6",
   "metadata": {},
   "outputs": [],
   "source": [
    "# pd.concat([df, a], axis=1).drop(columns = key)"
   ]
  },
  {
   "cell_type": "code",
   "execution_count": 77,
   "id": "d51a6221",
   "metadata": {},
   "outputs": [],
   "source": [
    "# who3 = who2.copy()\n",
    "\n",
    "# def type(d):\n",
    "#     if 'rel' in d:\n",
    "#         return 'rel'\n",
    "#     elif 'ep' in d:\n",
    "#         return 'ep'\n",
    "#     elif 'sn' in d:\n",
    "#         return 'sn'\n",
    "#     else:\n",
    "#         return 'sp'\n",
    "\n",
    "# def gender(d):\n",
    "#     if 'm' in d:\n",
    "#         return 'male'\n",
    "#     else:\n",
    "#         return 'female'\n",
    "    \n",
    "# def age(d):\n",
    "#     if '014' in d:\n",
    "#         return '0-14'\n",
    "#     elif '1524' in d:\n",
    "#         return '15-24'\n",
    "#     elif '2534' in d:\n",
    "#         return '25-34'\n",
    "#     elif '3544' in d:\n",
    "#         return '35-44'\n",
    "#     elif '4554' in d:\n",
    "#         return '45-54'\n",
    "#     elif '5564' in d:\n",
    "#         return '55-64'\n",
    "#     else:\n",
    "#         return '65+'\n",
    "        \n",
    "# who3['type'] = who3['case_type'].apply(lambda x: type(x))\n",
    "# who3['gender'] = who3['case_type'].apply(lambda x: gender(x))\n",
    "# who3['age_group'] = who3['case_type'].apply(lambda x: age(x))\n",
    "# who3.drop(\"case_type\", axis=1, inplace = True)\n",
    "\n",
    "# display(who3)\n",
    "\n",
    "\n",
    "#G = C.copy() # If you do not use copy function the original data frame is modified\n",
    "#G['year'] = G['year'].apply(lambda x: \"'{:02d}\".format(x % 100))"
   ]
  },
  {
   "cell_type": "code",
   "execution_count": null,
   "id": "452169d9",
   "metadata": {},
   "outputs": [],
   "source": []
  },
  {
   "cell_type": "markdown",
   "id": "50fd5b6e",
   "metadata": {},
   "source": [
    "GROUP BY"
   ]
  },
  {
   "cell_type": "code",
   "execution_count": 78,
   "id": "8f42e1f6",
   "metadata": {},
   "outputs": [],
   "source": [
    "# segment_groups = flights_cols_subset.groupby(['ORIGIN_AIRPORT_ID', 'DEST_AIRPORT_ID'], as_index=False)\n",
    "# segments = segment_groups.count()\n",
    "\n",
    "# segments[['ORIGIN_AIRPORT_ID', 'FL_COUNT']].groupby('ORIGIN_AIRPORT_ID', as_index=False) \\\n",
    "#             .agg({'FL_COUNT':\"count\"})"
   ]
  },
  {
   "cell_type": "markdown",
   "id": "6eb1fef2",
   "metadata": {},
   "source": [
    "irises.describe()\n",
    "irises['sepal length'].head()\n",
    "irises[[\"sepal length\", \"petal width\"]].head()\n",
    "irises.iloc[5:10]\n",
    "irises[irises[\"sepal length\"] > 5.0]\n",
    "irises[\"sepal length\"].max()\n",
    "irises['species'].unique()\n",
    "irises.sort_values(by=\"sepal length\", ascending=False).head(1)\n",
    "irises.sort_values(by=\"sepal length\", ascending=False).iloc[5:10]\n",
    "irises.sort_values(by=\"sepal length\", ascending=False).loc[5:10]\n",
    "irises['x'] = 3.14\n",
    "irises.rename(columns={'species': 'type'})\n",
    "del irises['x']"
   ]
  },
  {
   "cell_type": "code",
   "execution_count": null,
   "id": "750279c4",
   "metadata": {},
   "outputs": [],
   "source": [
    "  "
   ]
  }
 ],
 "metadata": {
  "kernelspec": {
   "display_name": "Python 3 (ipykernel)",
   "language": "python",
   "name": "python3"
  },
  "language_info": {
   "codemirror_mode": {
    "name": "ipython",
    "version": 3
   },
   "file_extension": ".py",
   "mimetype": "text/x-python",
   "name": "python",
   "nbconvert_exporter": "python",
   "pygments_lexer": "ipython3",
   "version": "3.7.9"
  }
 },
 "nbformat": 4,
 "nbformat_minor": 5
}
